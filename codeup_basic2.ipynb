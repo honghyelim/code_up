{
  "nbformat": 4,
  "nbformat_minor": 0,
  "metadata": {
    "colab": {
      "name": "codeup_basic2.ipynb",
      "provenance": [],
      "collapsed_sections": [],
      "authorship_tag": "ABX9TyPUMJr5uNva3RtMy5yjYUWZ",
      "include_colab_link": true
    },
    "kernelspec": {
      "name": "python3",
      "display_name": "Python 3"
    },
    "language_info": {
      "name": "python"
    }
  },
  "cells": [
    {
      "cell_type": "markdown",
      "metadata": {
        "id": "view-in-github",
        "colab_type": "text"
      },
      "source": [
        "<a href=\"https://colab.research.google.com/github/honghyelim/code_up100/blob/main/codeup_basic2.ipynb\" target=\"_parent\"><img src=\"https://colab.research.google.com/assets/colab-badge.svg\" alt=\"Open In Colab\"/></a>"
      ]
    },
    {
      "cell_type": "code",
      "metadata": {
        "colab": {
          "base_uri": "https://localhost:8080/"
        },
        "id": "38hmmCs-yr4w",
        "outputId": "cbe48eb4-d376-479e-c792-3c478d6edc96"
      },
      "source": [
        "#거꾸로 출력하기\n",
        "n = int(input())\n",
        "data = list(map(int,input().split()))\n",
        "\n",
        "for i in range(n-1,-1,-1):\n",
        "  print(data[i],end=' ')"
      ],
      "execution_count": null,
      "outputs": [
        {
          "output_type": "stream",
          "text": [
            "5\n",
            "1 3 5 6 8\n",
            "8 6 5 3 1 "
          ],
          "name": "stdout"
        }
      ]
    },
    {
      "cell_type": "code",
      "metadata": {
        "colab": {
          "base_uri": "https://localhost:8080/"
        },
        "id": "ixlYPmWdy8Dx",
        "outputId": "5ac3299e-a5c3-4949-a7c3-94bb84717bf4"
      },
      "source": [
        "#배열 두번 출력하기\n",
        "n = int(input())\n",
        "data = [int(x) for x in input().split()]\n",
        "\n",
        "for i in data:\n",
        "  print(i)\n",
        "for i in data:\n",
        "  print(i)"
      ],
      "execution_count": null,
      "outputs": [
        {
          "output_type": "stream",
          "text": [
            "1\n",
            "2\n",
            "3\n",
            "1\n",
            "2\n",
            "3\n"
          ],
          "name": "stdout"
        }
      ]
    },
    {
      "cell_type": "code",
      "metadata": {
        "colab": {
          "base_uri": "https://localhost:8080/"
        },
        "id": "x7u6I2zq1Cpg",
        "outputId": "088498ed-1188-4658-d1f5-1bd8cc0cdfb5"
      },
      "source": [
        "#숫자 로테이션\n",
        "n = 5 #int(input())\n",
        "data = [1,2,3,4,5] #[int(x) for x in input().split()]\n",
        "\n",
        "for i in range(n):\n",
        "  for j in range(n):\n",
        "    print(data[i+j-n],end=' ')\n",
        "  print()"
      ],
      "execution_count": null,
      "outputs": [
        {
          "output_type": "stream",
          "text": [
            "1 2 3 4 5 \n",
            "2 3 4 5 1 \n",
            "3 4 5 1 2 \n",
            "4 5 1 2 3 \n",
            "5 1 2 3 4 \n"
          ],
          "name": "stdout"
        }
      ]
    },
    {
      "cell_type": "code",
      "metadata": {
        "colab": {
          "base_uri": "https://localhost:8080/"
        },
        "id": "iCbhmn7t1Gi5",
        "outputId": "ab80ff6d-3122-44a6-d319-87cdacf979c0"
      },
      "source": [
        "#문자열 출력하기1\n",
        "s =[x for x in input().split()]\n",
        "for i in s:\n",
        "  print(i, end='')"
      ],
      "execution_count": null,
      "outputs": [
        {
          "output_type": "stream",
          "text": [
            "as sd fg\n",
            "assdfg"
          ],
          "name": "stdout"
        }
      ]
    },
    {
      "cell_type": "code",
      "metadata": {
        "colab": {
          "base_uri": "https://localhost:8080/"
        },
        "id": "sT2Gh1h51Gl2",
        "outputId": "64fa801e-0bb3-4f77-c841-3e35d1aeff66"
      },
      "source": [
        "#올바른 괄호1\n",
        "s =  list(map(str,input()))\n",
        "\n",
        "c = 0\n",
        "d = 0\n",
        "for i in s:\n",
        "  if i == '(':\n",
        "    c += 1\n",
        "  else:\n",
        "    d +=1\n",
        "\n",
        "print(c,d, end=' ')"
      ],
      "execution_count": null,
      "outputs": [
        {
          "output_type": "stream",
          "text": [
            "(())(())\n",
            "4 4 "
          ],
          "name": "stdout"
        }
      ]
    },
    {
      "cell_type": "code",
      "metadata": {
        "colab": {
          "base_uri": "https://localhost:8080/"
        },
        "id": "8q0JDnyr1GoX",
        "outputId": "42b7be02-9549-4bfa-d417-248314406032"
      },
      "source": [
        "#2진수 변환\n",
        "#재귀함수 사용\n",
        "\n",
        "n = int(input())\n",
        "\n",
        "def binary(n):\n",
        "    if n > 1:\n",
        "        binary(n // 2)   #2로 나눈 몫을 1이 나올때까지 반복해서 나누어줌\n",
        "    return print(n % 2, end='')\n",
        "\n",
        "binary(n)"
      ],
      "execution_count": null,
      "outputs": [
        {
          "output_type": "stream",
          "text": [
            "7\n",
            "111"
          ],
          "name": "stdout"
        }
      ]
    },
    {
      "cell_type": "code",
      "metadata": {
        "colab": {
          "base_uri": "https://localhost:8080/"
        },
        "id": "e-SobSWo1M07",
        "outputId": "128106ec-a141-4604-86e9-a556f7e7cb37"
      },
      "source": [
        "#자리 배치\n",
        "\n",
        "n, c = map(int, input().split())\n",
        "students = list(map(int, input().split()))\n",
        "​\n",
        "students.sort()\n",
        "​\n",
        "for i in range(0, int(n/c)+1):\n",
        "    for j in range(i*c, i*c+c): \n",
        "        if j >= len(students): #만약 list 길이보다 j가 크거나 같으면 break\n",
        "            break\n",
        "        print(students[j], end=' ')\n",
        "    print()"
      ],
      "execution_count": null,
      "outputs": [
        {
          "output_type": "stream",
          "text": [
            "160 165 164 165 150 165 168 145 170 \n",
            "145 150 160 164 165 165\n",
            "165 168 170\n"
          ],
          "name": "stdout"
        }
      ]
    },
    {
      "cell_type": "code",
      "metadata": {
        "colab": {
          "base_uri": "https://localhost:8080/"
        },
        "id": "L4naHZTV-hdY",
        "outputId": "15569102-cc3f-413b-c8a9-96d2c42ab349"
      },
      "source": [
        "#큰수 비교\n",
        "a = list(map(int, input().split()))\n",
        "\n",
        "print(mix(a), max(a), end=' ')"
      ],
      "execution_count": null,
      "outputs": [
        {
          "output_type": "stream",
          "text": [
            "1738616284593236721134246820309315293 948350275739085575844201540770610750818756894\n",
            "948350275739085575844201540770610750818756894 1738616284593236721134246820309315293 "
          ],
          "name": "stdout"
        }
      ]
    },
    {
      "cell_type": "code",
      "metadata": {
        "id": "Dc-ka8CEDmJi",
        "colab": {
          "base_uri": "https://localhost:8080/"
        },
        "outputId": "5046d5f0-d134-4d0d-8b99-b1ab9304c4ad"
      },
      "source": [
        "#3의 배수 판별하기\n",
        "\n",
        "n = int(input())\n",
        "\n",
        "if n %3 == 0:\n",
        "  print('1')\n",
        "else:\n",
        "  print('0')\n"
      ],
      "execution_count": null,
      "outputs": [
        {
          "output_type": "stream",
          "text": [
            "3321\n",
            "1\n"
          ],
          "name": "stdout"
        }
      ]
    },
    {
      "cell_type": "markdown",
      "metadata": {
        "id": "RNPLo9h3ANrY"
      },
      "source": [
        "2차원 배열"
      ]
    },
    {
      "cell_type": "code",
      "metadata": {
        "colab": {
          "base_uri": "https://localhost:8080/"
        },
        "id": "ZmbPy3vwAPQ_",
        "outputId": "4202f231-c1d0-4a03-e1b9-5e4a178fa76a"
      },
      "source": [
        "n = int(input())\n",
        "\n",
        "d = [i for i in range(1,(n*n)+1)]\n",
        "\n",
        "for i in range(n):\n",
        "  for j in range(i*n,i*n+n):\n",
        "    if j >= len(d) :\n",
        "      break\n",
        "    print(d[j], end=' ')\n",
        "  print()\n"
      ],
      "execution_count": null,
      "outputs": [
        {
          "output_type": "stream",
          "text": [
            "1 2 3 4 5 \n",
            "6 7 8 9 10 \n",
            "11 12 13 14 15 \n",
            "16 17 18 19 20 \n",
            "21 22 23 24 25 \n"
          ],
          "name": "stdout"
        }
      ]
    },
    {
      "cell_type": "code",
      "metadata": {
        "colab": {
          "base_uri": "https://localhost:8080/"
        },
        "id": "DYluQBp-AsFy",
        "outputId": "44449696-67ee-4882-e63f-a14706e5d143"
      },
      "source": [
        "n = int(input())\n",
        "\n",
        "for i in range(0, n):\n",
        "    for j in range(1, n+1):\n",
        "        print(n*i+j, end=' ')\n",
        "    print()"
      ],
      "execution_count": null,
      "outputs": [
        {
          "output_type": "stream",
          "text": [
            "5\n",
            "1 2 3 4 5 \n",
            "6 7 8 9 10 \n",
            "11 12 13 14 15 \n",
            "16 17 18 19 20 \n",
            "21 22 23 24 25 \n"
          ],
          "name": "stdout"
        }
      ]
    },
    {
      "cell_type": "code",
      "metadata": {
        "colab": {
          "base_uri": "https://localhost:8080/"
        },
        "id": "JmGdcH1qCiPJ",
        "outputId": "b94039e2-9b04-48bf-e7d6-9b75076631f5"
      },
      "source": [
        "n = int(input())\n",
        "\n",
        "for i in range(0, n):\n",
        "    for j in range(n,0,-1):\n",
        "        print(n*i+j, end=' ')\n",
        "    print()"
      ],
      "execution_count": null,
      "outputs": [
        {
          "output_type": "stream",
          "text": [
            "5\n",
            "5 4 3 2 1 \n",
            "10 9 8 7 6 \n",
            "15 14 13 12 11 \n",
            "20 19 18 17 16 \n",
            "25 24 23 22 21 \n"
          ],
          "name": "stdout"
        }
      ]
    },
    {
      "cell_type": "code",
      "metadata": {
        "colab": {
          "base_uri": "https://localhost:8080/"
        },
        "id": "SpfMea7sDfia",
        "outputId": "1c61a0c0-aee9-4f72-9851-c25c5fbeb682"
      },
      "source": [
        "n = int(input())\n",
        "\n",
        "for i in range(0, n):\n",
        "    for j in range(1,(n*(n-1))+2,n):\n",
        "        print(i+j, end=' ')\n",
        "    print()"
      ],
      "execution_count": null,
      "outputs": [
        {
          "output_type": "stream",
          "text": [
            "5\n",
            "1 6 11 16 21 \n",
            "2 7 12 17 22 \n",
            "3 8 13 18 23 \n",
            "4 9 14 19 24 \n",
            "5 10 15 20 25 \n"
          ],
          "name": "stdout"
        }
      ]
    },
    {
      "cell_type": "code",
      "metadata": {
        "colab": {
          "base_uri": "https://localhost:8080/"
        },
        "id": "reIb1DToEulf",
        "outputId": "79670c49-9e33-4671-d84e-c73e991e237d"
      },
      "source": [
        "n = int(input())\n",
        "\n",
        "for i in range(0,-n,-1):\n",
        "  for j in range(n,n*n+1,n):\n",
        "    print(i+j,end=' ')\n",
        "  print()"
      ],
      "execution_count": null,
      "outputs": [
        {
          "output_type": "stream",
          "text": [
            "5\n",
            "5 10 15 20 25 \n",
            "4 9 14 19 24 \n",
            "3 8 13 18 23 \n",
            "2 7 12 17 22 \n",
            "1 6 11 16 21 \n"
          ],
          "name": "stdout"
        }
      ]
    },
    {
      "cell_type": "code",
      "metadata": {
        "colab": {
          "base_uri": "https://localhost:8080/"
        },
        "id": "Qj4wewRPEwT1",
        "outputId": "b3e1d7b8-58f4-48b3-9649-5e367493a8aa"
      },
      "source": [
        "n, m = map(int, input().split())\n",
        "\n",
        "for i in range(n, 0, -1):\n",
        "    for j in range(0, m):\n",
        "        print(i*m-j, end=' ')\n",
        "    print()"
      ],
      "execution_count": null,
      "outputs": [
        {
          "output_type": "stream",
          "text": [
            "4 5\n",
            "20 19 18 17 16 \n",
            "15 14 13 12 11 \n",
            "10 9 8 7 6 \n",
            "5 4 3 2 1 \n"
          ],
          "name": "stdout"
        }
      ]
    },
    {
      "cell_type": "code",
      "metadata": {
        "colab": {
          "base_uri": "https://localhost:8080/"
        },
        "id": "eKA46h_cIgSC",
        "outputId": "d39535bc-56ef-4040-8187-492c79c0d4a7"
      },
      "source": [
        "#홀수 마방진\n",
        "n = 5 #int(input())\n",
        "\n",
        "#매트릭스 만들어주기\n",
        "data= [[0 for _ in range(n)] for _ in range(n)]\n",
        "\n",
        "sx = 0\n",
        "sy = int(n/2)\n",
        "data[sx][sy] = 1\n",
        "\n",
        "x = 0\n",
        "y = 0\n",
        "for i in range(2,n*n+1):\n",
        "  x = sx\n",
        "  y = sy\n",
        "  sx -= 1       #행은 감소\n",
        "  sy += 1       #열은 증가\n",
        "  if sx < 0 :   #행은 감소하므로 첫 행보다 작아지는 경우 마지막 행으로 넘어감\n",
        "    sx = n-1   \n",
        "  if sy > n-1 : #열은 증가하므로 마지막 열보다 커지는 경우 첫 열로 넘어감\n",
        "    sy = 0\n",
        "  if data[sx][sy] == 0:\n",
        "    data[sx][sy] = i   #매트릭스에 수를 채워 넣음\n",
        "  else:         #넣은 수가 n의 배수이면 행만 증가, 열은 변화 없음 \n",
        "    sx = x+1\n",
        "    sy=y\n",
        "    data[sx][sy] = i\n",
        "\n",
        "#출력\n",
        "for i in range(0,n):\n",
        "  for j in range(0,n):\n",
        "    print('%d' %data[i][j],end=' ')\n",
        "  print()"
      ],
      "execution_count": null,
      "outputs": [
        {
          "output_type": "stream",
          "text": [
            "17 24 1 8 15 \n",
            "23 5 7 14 16 \n",
            "4 6 13 20 22 \n",
            "10 12 19 21 3 \n",
            "11 18 25 2 9 \n"
          ],
          "name": "stdout"
        }
      ]
    },
    {
      "cell_type": "code",
      "metadata": {
        "colab": {
          "base_uri": "https://localhost:8080/"
        },
        "id": "hvkTb6SFQhv8",
        "outputId": "38400163-cf99-4a2a-c5be-114e08f23d6e"
      },
      "source": [
        "n = 3 #int(input())\n",
        "m = [[0]*n for _ in range(n)]\n",
        "c = 0\n",
        "t = 0\n",
        "\n",
        "#매트릭스 생성\n",
        "for i in  range(0,n):\n",
        "  for j in range(0,n):\n",
        "    c += 1\n",
        "    m[i][j] = c\n",
        "\n",
        "#테두리의 합 구하기\n",
        "for i in range(0,n):\n",
        "  t += m[0][i]\n",
        "for i in range(0,n):\n",
        "  t += m[n-1][i]\n",
        "for i in range(1,n-1):\n",
        "  t += m[i][0]\n",
        "for i in range(1,n-1):\n",
        "  t += m[i][n-1]\n",
        "\n",
        "print(t)"
      ],
      "execution_count": null,
      "outputs": [
        {
          "output_type": "stream",
          "text": [
            "40\n"
          ],
          "name": "stdout"
        }
      ]
    },
    {
      "cell_type": "code",
      "metadata": {
        "id": "c9eV8-zT3LmE"
      },
      "source": [
        "#생명게임\n",
        "#조건\n",
        "#1. 생명이 없는 칸의 주위 8칸에 정확히 3마리의 생명이 존재하는 경우 다음 세대에 그칸에서 생명이 탄생\n",
        "#2. 생명이 있는 칸의 주위 8칸에 4마리 이상 또는 1마리 이하의 생명이 존재하는 경우 다음 세대에 그 칸의 생명은 죽는다.\n",
        "#3. 생명이 있는 칸의 주위 8칸에 2마리 또는 3마리의 생명이 존재하는 경우 다음 세대에 그 칸의 생명은 생존한다. \n",
        "\n",
        "m = [[0]*27 for i in range(27)]\n",
        "n = [[0]*27 for i in range(27)]\n",
        "\n",
        "for i in range(1, 26):\n",
        "  input_list = list(map(int, input().split()))\n",
        "  for j in range(0, 25):\n",
        "    m[i][j+1] = input_list[j]\n",
        "\n",
        "#시작을 1,1로 설정\n",
        "for i in range(1, 26):\n",
        "  for j in range(1, 26):\n",
        "    life = m[i-1][j-1] + m[i][j-1] + m[i+1][j-1] + m[i-1][j] + m[i+1][j] + m[i-1][j+1] + m[i][j+1] + m[i+1][j+1]\n",
        "    if m[i][j] == 0:\n",
        "      n[i][j] = 1 if life == 3 else 0\n",
        "    else:\n",
        "      n[i][j] = 1 if life == 2 or life == 3 else 0\n",
        "\n",
        "for i in range(1, 26):\n",
        "  for j in range(1, 26):\n",
        "    print(n[i][j], end=' ')\n",
        "  print()"
      ],
      "execution_count": null,
      "outputs": []
    },
    {
      "cell_type": "code",
      "metadata": {
        "id": "aSFEJydjXKCk",
        "colab": {
          "base_uri": "https://localhost:8080/"
        },
        "outputId": "a5d255d9-6830-450f-f1ce-941d5de206df"
      },
      "source": [
        "#지뢰찾기\n",
        "\n",
        "m = [[0]*11 for _ in range(11)]\n",
        "\n",
        "for i in range(1,10):\n",
        "  li = list(map(int, input().split()))\n",
        "  for j in range(9):\n",
        "    m[i][j+1] = li[j]\n",
        "\n",
        "a, b = map(int,input().split())\n",
        "\n",
        "if m[a][b] == 1:\n",
        "  print('-1')\n",
        "else:\n",
        "  life = m[a-1][b-1]+m[a][b-1]+m[a+1][b-1]+m[a-1][b+1]+m[a+1][b+1]+m[a][b+1]+m[a-1][b]+m[a+1][b]\n",
        "  print(life)"
      ],
      "execution_count": 33,
      "outputs": [
        {
          "output_type": "stream",
          "text": [
            "1 0 1 0 0 0 0 0 0 \n",
            "1 0 0 0 1 0 0 0 0\n",
            "1 0 0 0 1 0 0 1 0 \n",
            "1 0 1 1 1 0 0 0 0 \n",
            "1 0 1 0 1 0 0 0 0 \n",
            "1 0 1 1 1 0 0 1 0 \n",
            "1 0 0 0 1 0 0 0 0 \n",
            "1 0 0 0 1 0 0 1 0\n",
            "1 0 0 0 1 0 0 0 0\n",
            "5 4\n",
            "8\n"
          ],
          "name": "stdout"
        }
      ]
    }
  ]
}