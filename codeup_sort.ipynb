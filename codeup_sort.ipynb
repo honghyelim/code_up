{
  "nbformat": 4,
  "nbformat_minor": 0,
  "metadata": {
    "colab": {
      "name": "codeup_sort.ipynb",
      "provenance": [],
      "collapsed_sections": [],
      "authorship_tag": "ABX9TyOwAb0y61VziCYMyxb/Ha80",
      "include_colab_link": true
    },
    "kernelspec": {
      "name": "python3",
      "display_name": "Python 3"
    },
    "language_info": {
      "name": "python"
    }
  },
  "cells": [
    {
      "cell_type": "markdown",
      "metadata": {
        "id": "view-in-github",
        "colab_type": "text"
      },
      "source": [
        "<a href=\"https://colab.research.google.com/github/honghyelim/code_up100/blob/main/codeup_sort.ipynb\" target=\"_parent\"><img src=\"https://colab.research.google.com/assets/colab-badge.svg\" alt=\"Open In Colab\"/></a>"
      ]
    },
    {
      "cell_type": "code",
      "metadata": {
        "colab": {
          "base_uri": "https://localhost:8080/"
        },
        "id": "YYQymFyAXW7k",
        "outputId": "522afd71-d0fb-4043-9b5b-2133c197e3e0"
      },
      "source": [
        "#세 수 정렬하기\n",
        "\n",
        "a = list(map(int,input().split()))\n",
        "\n",
        "a.sort()\n",
        "\n",
        "for i in a:\n",
        "  print(i, end=' ')\n"
      ],
      "execution_count": null,
      "outputs": [
        {
          "output_type": "stream",
          "text": [
            "3 2 1\n",
            "1 2 3 "
          ],
          "name": "stdout"
        }
      ]
    },
    {
      "cell_type": "code",
      "metadata": {
        "colab": {
          "base_uri": "https://localhost:8080/"
        },
        "id": "ugGqEbL4X2c7",
        "outputId": "911a7219-9dc8-43a4-c20d-f4f9ffc37e3a"
      },
      "source": [
        "#3등 찾기\n",
        "n = int(input())\n",
        "d = {}\n",
        "\n",
        "for i in range(0,n):\n",
        "  name, score = input().split()\n",
        "  d[name] = int(score)\n",
        "\n",
        "\n",
        "data = sorted(d.items(), key = lambda x : x[1],reverse=True)  #score를 기준으로 딕셔너리 정렬\n",
        "print(data[2][0]) #세번째 이름 출력"
      ],
      "execution_count": null,
      "outputs": [
        {
          "output_type": "stream",
          "text": [
            "5\n",
            "n 89\n",
            "m 67\n",
            "j 75\n",
            "g 90\n",
            "s 56\n",
            "j\n"
          ],
          "name": "stdout"
        }
      ]
    },
    {
      "cell_type": "code",
      "metadata": {
        "id": "mzPIa-tXX2fI",
        "colab": {
          "base_uri": "https://localhost:8080/"
        },
        "outputId": "8c0e866a-fa23-469f-d7cc-d2acb8bff775"
      },
      "source": [
        "#데이터 정렬(small)\n",
        "\n",
        "n = int(input())\n",
        "data = []\n",
        "\n",
        "for i in range(n):\n",
        "  data.append(int(input()))\n",
        "\n",
        "data.sort()\n",
        "for i in data:\n",
        "  print(i)\n"
      ],
      "execution_count": null,
      "outputs": [
        {
          "output_type": "stream",
          "text": [
            "3\n",
            "9\n",
            "3\n",
            "5\n",
            "3\n",
            "5\n",
            "9\n"
          ],
          "name": "stdout"
        }
      ]
    },
    {
      "cell_type": "code",
      "metadata": {
        "id": "XtwoDKwOX2hu",
        "colab": {
          "base_uri": "https://localhost:8080/"
        },
        "outputId": "f587fe5b-d453-44b3-e68e-534118dbc0cf"
      },
      "source": [
        "# 내림차순 정렬\n",
        "n = int(input())\n",
        "data = list(map(int,input().split()))\n",
        "\n",
        "data.sort(reverse=True)\n",
        "\n",
        "for i in data:\n",
        "  print(i, end=' ')"
      ],
      "execution_count": null,
      "outputs": [
        {
          "output_type": "stream",
          "text": [
            "3\n",
            "4 6 3\n",
            "6 4 3 "
          ],
          "name": "stdout"
        }
      ]
    },
    {
      "cell_type": "code",
      "metadata": {
        "id": "MEVifzxfX2ni",
        "colab": {
          "base_uri": "https://localhost:8080/"
        },
        "outputId": "e6e4966b-1aeb-4b7a-f39c-aa0fe3c9fe69"
      },
      "source": [
        "#데이터 재정렬\n",
        "n = int(input())\n",
        "data = list(map(int, input().split()))\n",
        "\n",
        "# binary search 함수\n",
        "def bin_search(data, start, end, k):\n",
        "    while start <= end:\n",
        "        mid = (start + end) // 2\n",
        "        if data[mid] == k:\n",
        "            return mid\n",
        "        elif data[mid] < k:\n",
        "            start = mid + 1\n",
        "        else:\n",
        "            end = mid - 1\n",
        "\n",
        "# 데이터의 각 원소에 오름차순 순위 부여\n",
        "def resort(data):\n",
        "    index_memo = \"\"\n",
        "    sorted_data = sorted(data)\n",
        "    for i in data:\n",
        "        index_memo += str(bin_search(sorted_data, 0, len(data)-1, i)) + \" \"\n",
        "    return index_memo\n",
        "\n",
        "# 결과값 출력\n",
        "print(resort(data))"
      ],
      "execution_count": null,
      "outputs": [
        {
          "output_type": "stream",
          "text": [
            "5\n",
            "50 23 54 24 123 \n",
            "2 0 3 1 4 \n"
          ],
          "name": "stdout"
        }
      ]
    },
    {
      "cell_type": "code",
      "metadata": {
        "colab": {
          "base_uri": "https://localhost:8080/"
        },
        "id": "LzRu6DfWynT7",
        "outputId": "87e7ba0a-9835-4296-ffbb-b7cef9918b0b"
      },
      "source": [
        "#버블 정렬\n",
        "n = 5 #int(input())\n",
        "a = [10, 50, 30, 20, 40] #list(map(int,input().split()))\n",
        "c = 0\n",
        "\n",
        "for i in range(1,n):\n",
        "  change_flag = False\n",
        "  for j in range(n-i):\n",
        "    if a[j] > a[j+1]:\n",
        "      temp = a[j]\n",
        "      a[j] = a[j+1]\n",
        "      a[j+1] = temp\n",
        "      change_flag=True\n",
        "  if change_flag:\n",
        "    c += 1\n",
        "\n",
        "print(c)"
      ],
      "execution_count": null,
      "outputs": [
        {
          "output_type": "stream",
          "text": [
            "2\n"
          ],
          "name": "stdout"
        }
      ]
    },
    {
      "cell_type": "code",
      "metadata": {
        "id": "FJ_hHUNi0BEB",
        "colab": {
          "base_uri": "https://localhost:8080/"
        },
        "outputId": "6f6948dc-5991-4881-ae4a-b76a4ebcd28a"
      },
      "source": [
        "#정렬 기준\n",
        "import collections\n",
        "s = collections.namedtuple('s',['id','math','comp'])\n",
        "ss= list()\n",
        "\n",
        "#입력\n",
        "n = int(input())\n",
        "for i in range(n):\n",
        "  m,c = map(int,input().split())\n",
        "  ss.append(s(i,m,c)) #[s(id=0, math=20, comp=30), s(id=1, math=10, comp=30), s(id=2, math=20, comp=30)]\n",
        "\n",
        "def chg_idx(j):\n",
        "  t = ss[j]\n",
        "  ss[j] = ss[j+1]\n",
        "  ss[j+1] = t        #서로 자리 바꿔주기\n",
        "\n",
        "for i in range(1,n):  #비교하기\n",
        "  for j in range(n-i):\n",
        "    if ss[j].math < ss[j+1].math:\n",
        "      chg_idx(j)\n",
        "    elif ss[j].math == ss[j+1].math:\n",
        "      if ss[j].comp < ss[j+1].comp:\n",
        "        chg_idx(j)\n",
        "\n",
        "for i in range(n):\n",
        "  print((ss[i].id)+1,ss[i].math,ss[i].comp)\n"
      ],
      "execution_count": 24,
      "outputs": [
        {
          "output_type": "stream",
          "text": [
            "5\n",
            "100 90\n",
            "90 90\n",
            "80 80\n",
            "80 90\n",
            "60 50\n",
            "1 100 90\n",
            "2 90 90\n",
            "4 80 90\n",
            "3 80 80\n",
            "5 60 50\n"
          ],
          "name": "stdout"
        }
      ]
    }
  ]
}