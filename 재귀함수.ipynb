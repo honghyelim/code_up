{
  "nbformat": 4,
  "nbformat_minor": 0,
  "metadata": {
    "colab": {
      "name": "재귀함수.ipynb",
      "provenance": [],
      "collapsed_sections": [],
      "authorship_tag": "ABX9TyMq69fvPyofRglUAp0qmydt",
      "include_colab_link": true
    },
    "kernelspec": {
      "name": "python3",
      "display_name": "Python 3"
    },
    "language_info": {
      "name": "python"
    }
  },
  "cells": [
    {
      "cell_type": "markdown",
      "metadata": {
        "id": "view-in-github",
        "colab_type": "text"
      },
      "source": [
        "<a href=\"https://colab.research.google.com/github/honghyelim/code_up/blob/main/%EC%9E%AC%EA%B7%80%ED%95%A8%EC%88%98.ipynb\" target=\"_parent\"><img src=\"https://colab.research.google.com/assets/colab-badge.svg\" alt=\"Open In Colab\"/></a>"
      ]
    },
    {
      "cell_type": "code",
      "metadata": {
        "colab": {
          "base_uri": "https://localhost:8080/"
        },
        "id": "5Dn9kYM3yri2",
        "outputId": "80e3505e-2742-4067-8977-fb0a34867acf"
      },
      "source": [
        "#1부터 n까지 출력하기\n",
        "s = int(input())\n",
        "\n",
        "def fun(s):\n",
        "  if s != 1:\n",
        "    fun(s-1)\n",
        "  print(s)\n",
        "\n",
        "fun(s)"
      ],
      "execution_count": null,
      "outputs": [
        {
          "output_type": "stream",
          "text": [
            "10\n",
            "1\n",
            "2\n",
            "3\n",
            "4\n",
            "5\n",
            "6\n",
            "7\n",
            "8\n",
            "9\n",
            "10\n"
          ],
          "name": "stdout"
        }
      ]
    },
    {
      "cell_type": "code",
      "metadata": {
        "colab": {
          "base_uri": "https://localhost:8080/"
        },
        "id": "C2Wve4A85It7",
        "outputId": "81f09074-ed12-412b-f1bf-b76d233540fe"
      },
      "source": [
        "#1부터 n까지 역순으로 출력하기\n",
        "s = int(input())\n",
        "\n",
        "def fun(s):\n",
        "  print(s)\n",
        "  if s != 1:\n",
        "    fun(s-1)\n",
        "\n",
        "fun(s)"
      ],
      "execution_count": null,
      "outputs": [
        {
          "output_type": "stream",
          "text": [
            "10\n",
            "10\n",
            "9\n",
            "8\n",
            "7\n",
            "6\n",
            "5\n",
            "4\n",
            "3\n",
            "2\n",
            "1\n"
          ],
          "name": "stdout"
        }
      ]
    },
    {
      "cell_type": "code",
      "metadata": {
        "colab": {
          "base_uri": "https://localhost:8080/"
        },
        "id": "yuS8p8ZJ59if",
        "outputId": "c4749429-cb07-48f4-901b-5968efff8c61"
      },
      "source": [
        "#두 수 사이의 홀수 출력하기\n",
        "a,b = map(int,input().split())\n",
        "\n",
        "def fun(a,b):  \n",
        "  if b > a:\n",
        "    fun(a,b-1)\n",
        "    \n",
        "  if b % 2 != 0:\n",
        "    print(b, end=' ')\n",
        "  else:\n",
        "    return\n",
        "\n",
        "fun(a,b)"
      ],
      "execution_count": null,
      "outputs": [
        {
          "output_type": "stream",
          "text": [
            "2 7\n",
            "3 5 7 "
          ],
          "name": "stdout"
        }
      ]
    },
    {
      "cell_type": "code",
      "metadata": {
        "colab": {
          "base_uri": "https://localhost:8080/"
        },
        "id": "JJZB3xQSFRfl",
        "outputId": "733f12f7-0976-49fa-f4b0-5ac23417c1ed"
      },
      "source": [
        "a,b =map(int,input().split())\n",
        "\n",
        "def fun(a,b):\n",
        "    if a > b:\n",
        "        return\n",
        "    else:\n",
        "        if a % 2 != 0:\n",
        "            print(a, end =\" \")\n",
        "    fun(a+1,b)\n",
        "\n",
        "fun(a,b)"
      ],
      "execution_count": null,
      "outputs": [
        {
          "output_type": "stream",
          "text": [
            "2 7\n",
            "3 5 7 "
          ],
          "name": "stdout"
        }
      ]
    },
    {
      "cell_type": "code",
      "metadata": {
        "colab": {
          "base_uri": "https://localhost:8080/"
        },
        "id": "TLeSCyrv6FeM",
        "outputId": "0c074824-0b4c-4d6b-a0b7-541ed620a549"
      },
      "source": [
        "#1부터 n까지 합 구하기\n",
        "\n",
        "s = 0\n",
        "def fun_sum(n):\n",
        "  global s\n",
        "  if n != 1:\n",
        "      fun_sum(n-1)\n",
        "  s += n\n",
        "fun_sum(int(input()))\n",
        " \n",
        "print(s)"
      ],
      "execution_count": null,
      "outputs": [
        {
          "output_type": "stream",
          "text": [
            "10\n",
            "55\n"
          ],
          "name": "stdout"
        }
      ]
    },
    {
      "cell_type": "code",
      "metadata": {
        "colab": {
          "base_uri": "https://localhost:8080/"
        },
        "id": "0ry4K_FjAFZ3",
        "outputId": "4bbb2b42-06c7-4470-ad1f-b9aef91ad30a"
      },
      "source": [
        "n=int(input())\n",
        "\n",
        "def f(x):\n",
        "  if x == 1:\n",
        "    return 1\n",
        "  else:\n",
        "    return ((x+1)//2)*((x+1)//2)+f(x//2)*2\n",
        "\n",
        "print(f(n))"
      ],
      "execution_count": null,
      "outputs": [
        {
          "output_type": "stream",
          "text": [
            "10\n",
            "55\n"
          ],
          "name": "stdout"
        }
      ]
    },
    {
      "cell_type": "code",
      "metadata": {
        "colab": {
          "base_uri": "https://localhost:8080/"
        },
        "id": "7hEKFK8NBFRG",
        "outputId": "eb3977a6-781f-4595-ae14-9e8f1b90acdf"
      },
      "source": [
        "def plus(n):\n",
        "    if n <= 1:\n",
        "        return 1\n",
        "    return plus(n-1) + n\n",
        " \n",
        "print(plus(int(input())))"
      ],
      "execution_count": null,
      "outputs": [
        {
          "output_type": "stream",
          "text": [
            "10\n",
            "55\n"
          ],
          "name": "stdout"
        }
      ]
    },
    {
      "cell_type": "code",
      "metadata": {
        "colab": {
          "base_uri": "https://localhost:8080/"
        },
        "id": "fAFuepuc6Fj2",
        "outputId": "6a06249d-b1eb-416d-bdf7-c90e24469270"
      },
      "source": [
        "#팩토리얼 계산\n",
        "\n",
        "n = int(input())\n",
        "\n",
        "def fun(n):\n",
        "  if n > 1:\n",
        "    return n * fun(n-1)\n",
        "  else:\n",
        "    return 1\n",
        "\n",
        "print(fun(n))\n"
      ],
      "execution_count": null,
      "outputs": [
        {
          "output_type": "stream",
          "text": [
            "5\n",
            "120\n"
          ],
          "name": "stdout"
        }
      ]
    },
    {
      "cell_type": "code",
      "metadata": {
        "id": "OcIZsa2B6Fmx",
        "colab": {
          "base_uri": "https://localhost:8080/"
        },
        "outputId": "b94949b9-985c-4ad2-be53-42344a55ee46"
      },
      "source": [
        "#피보나치 수열\n",
        "\n",
        "n = int(input())\n",
        "\n",
        "def pibo(n):\n",
        "  if n == 0:\n",
        "    return 0\n",
        "  elif n == 1 or n ==2:\n",
        "    return 1\n",
        "  else:\n",
        "    return pibo(n-1) + pibo(n-2)\n",
        "\n",
        "\n",
        "print(pibo(n))\n"
      ],
      "execution_count": null,
      "outputs": [
        {
          "output_type": "stream",
          "text": [
            "7\n",
            "13\n"
          ],
          "name": "stdout"
        }
      ]
    },
    {
      "cell_type": "code",
      "metadata": {
        "colab": {
          "base_uri": "https://localhost:8080/"
        },
        "id": "WdoY1AZpJR4_",
        "outputId": "a4151dea-d55c-40ca-ab86-cf7d329a7c8e"
      },
      "source": [
        "memo={1:1,2:1}\n",
        "\n",
        "def f(x) :\n",
        "    if x in memo :\n",
        "        return memo[x]\n",
        "    memo[x] = f(x-1)+f(x-2)\n",
        "    return memo[x]\n",
        "\n",
        "n=int(input())\n",
        "print(f(n))"
      ],
      "execution_count": null,
      "outputs": [
        {
          "output_type": "stream",
          "text": [
            "7\n",
            "13\n"
          ],
          "name": "stdout"
        }
      ]
    },
    {
      "cell_type": "code",
      "metadata": {
        "id": "M_p4mtEV6Frk",
        "colab": {
          "base_uri": "https://localhost:8080/"
        },
        "outputId": "363122b0-2177-4b60-b22c-985635f8ca90"
      },
      "source": [
        "#우박수 (3n+1) (basic)\n",
        "\n",
        "def fun(n):\n",
        "  print(n)\n",
        "  if n == 1:\n",
        "    return 1\n",
        "  elif n % 2 == 1:\n",
        "    fun(3*n+1)\n",
        "  else:\n",
        "    fun(n//2)\n",
        "\n",
        "x = int(input())\n",
        "fun(x)"
      ],
      "execution_count": null,
      "outputs": [
        {
          "output_type": "stream",
          "text": [
            "5\n",
            "5\n",
            "16\n",
            "8\n",
            "4\n",
            "2\n",
            "1\n"
          ],
          "name": "stdout"
        }
      ]
    },
    {
      "cell_type": "code",
      "metadata": {
        "id": "rHluc0dy6RHZ",
        "colab": {
          "base_uri": "https://localhost:8080/"
        },
        "outputId": "73a42c7f-94eb-453f-fa2d-312c8344e1b1"
      },
      "source": [
        "#우박수 (3n+1) (reverse)\n",
        "\n",
        "def fun(n):\n",
        "    if n == 1:\n",
        "        return print(n)\n",
        "    elif n % 2 == 1:\n",
        "        fun(3*n+1)\n",
        "    else: \n",
        "        fun(n//2)\n",
        "    return print(n)\n",
        "\n",
        "x = int(input())\n",
        "fun(x)"
      ],
      "execution_count": null,
      "outputs": [
        {
          "output_type": "stream",
          "text": [
            "5\n",
            "1\n",
            "2\n",
            "4\n",
            "8\n",
            "16\n",
            "5\n"
          ],
          "name": "stdout"
        }
      ]
    }
  ]
}