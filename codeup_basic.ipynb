{
  "nbformat": 4,
  "nbformat_minor": 0,
  "metadata": {
    "colab": {
      "name": "codeup_basic.ipynb",
      "provenance": [],
      "collapsed_sections": [],
      "authorship_tag": "ABX9TyP3Tw9Okyi5RcdVJ6vMX3yC",
      "include_colab_link": true
    },
    "kernelspec": {
      "name": "python3",
      "display_name": "Python 3"
    },
    "language_info": {
      "name": "python"
    }
  },
  "cells": [
    {
      "cell_type": "markdown",
      "metadata": {
        "id": "view-in-github",
        "colab_type": "text"
      },
      "source": [
        "<a href=\"https://colab.research.google.com/github/honghyelim/code_up100/blob/main/codeup_basic.ipynb\" target=\"_parent\"><img src=\"https://colab.research.google.com/assets/colab-badge.svg\" alt=\"Open In Colab\"/></a>"
      ]
    },
    {
      "cell_type": "code",
      "metadata": {
        "colab": {
          "base_uri": "https://localhost:8080/"
        },
        "id": "_rw8vLTnXvC9",
        "outputId": "5094f931-da46-43c5-f669-0b0b2b6bc60d"
      },
      "source": [
        "s = input()\n",
        "\n",
        "for i in s:\n",
        "  print(\"'{}'\".format(i))"
      ],
      "execution_count": null,
      "outputs": [
        {
          "output_type": "stream",
          "text": [
            "boy\n",
            "'b'\n",
            "'o'\n",
            "'y'\n"
          ],
          "name": "stdout"
        }
      ]
    },
    {
      "cell_type": "code",
      "metadata": {
        "colab": {
          "base_uri": "https://localhost:8080/"
        },
        "id": "WOZoAOXXXvFt",
        "outputId": "9b7f333d-3182-4551-c560-c0c3c51bb6d0"
      },
      "source": [
        "s = int(input())\n",
        "\n",
        "print('{}%'.format(s))"
      ],
      "execution_count": null,
      "outputs": [
        {
          "output_type": "stream",
          "text": [
            "35\n",
            "35%\n"
          ],
          "name": "stdout"
        }
      ]
    },
    {
      "cell_type": "code",
      "metadata": {
        "colab": {
          "base_uri": "https://localhost:8080/"
        },
        "id": "4DaT-q6kapmU",
        "outputId": "b0d6b9ac-4462-41dc-c3d7-18d32a846514"
      },
      "source": [
        "s = float(input())\n",
        "\n",
        "if s >= 50 and s <= 60:\n",
        "  print('win')\n",
        "else:\n",
        "  print('lose')"
      ],
      "execution_count": null,
      "outputs": [
        {
          "output_type": "stream",
          "text": [
            "50.213\n",
            "win\n"
          ],
          "name": "stdout"
        }
      ]
    },
    {
      "cell_type": "code",
      "metadata": {
        "colab": {
          "base_uri": "https://localhost:8080/"
        },
        "id": "hasjp7yebImg",
        "outputId": "5bd52afa-5d64-4052-9601-22fed3ab9003"
      },
      "source": [
        "s = int(input())\n",
        "\n",
        "if (s >= 30 and s <= 40) or (s<=70 and s>=60):\n",
        "  print('win')\n",
        "else:\n",
        "  print('lose')"
      ],
      "execution_count": null,
      "outputs": [
        {
          "output_type": "stream",
          "text": [
            "50\n",
            "lose\n"
          ],
          "name": "stdout"
        }
      ]
    },
    {
      "cell_type": "code",
      "metadata": {
        "colab": {
          "base_uri": "https://localhost:8080/"
        },
        "id": "tgq_9qLkbYhu",
        "outputId": "86f149f0-5a24-48fb-8443-f8346315fb11"
      },
      "source": [
        "s = int(input())\n",
        "\n",
        "if (s >= 50 and s <= 70) or (s % 6==0):\n",
        "  print('win')\n",
        "else:\n",
        "  print('lose')"
      ],
      "execution_count": null,
      "outputs": [
        {
          "output_type": "stream",
          "text": [
            "30\n",
            "win\n"
          ],
          "name": "stdout"
        }
      ]
    },
    {
      "cell_type": "code",
      "metadata": {
        "colab": {
          "base_uri": "https://localhost:8080/"
        },
        "id": "Xy5TAlYabkMI",
        "outputId": "cd302890-9826-4474-f8bc-8d01fdd9617d"
      },
      "source": [
        "#축구의 신1\n",
        "minute, score = map(int, input().split())\n",
        " \n",
        "while minute < 90:\n",
        "    minute += 5\n",
        "    score += 1\n",
        " \n",
        "print(score)"
      ],
      "execution_count": null,
      "outputs": [
        {
          "output_type": "stream",
          "text": [
            "72 2\n",
            "6\n"
          ],
          "name": "stdout"
        }
      ]
    },
    {
      "cell_type": "code",
      "metadata": {
        "colab": {
          "base_uri": "https://localhost:8080/"
        },
        "id": "DUs2nzR7dLU3",
        "outputId": "2e14ff6f-6b0a-4cc8-f4a0-890ede76e4b0"
      },
      "source": [
        "a = list(map(int,input().split()))\n",
        "\n",
        "a.sort()\n",
        "print(a[1])\n"
      ],
      "execution_count": null,
      "outputs": [
        {
          "output_type": "stream",
          "text": [
            "201 20 3\n",
            "20\n"
          ],
          "name": "stdout"
        }
      ]
    },
    {
      "cell_type": "code",
      "metadata": {
        "colab": {
          "base_uri": "https://localhost:8080/"
        },
        "id": "thkW3y1ihLn4",
        "outputId": "e1d58164-47a2-4597-f815-095bc9c63cbc"
      },
      "source": [
        "s = list(str(input())) #90\n",
        "t = int(''.join(s[::-1])) *2 #역수구해서 곱하기 2하기\n",
        "\n",
        "if t >= 100:\n",
        "  t -= 100\n",
        "  if t <= 50:\n",
        "    print(t,'GOOD', sep='\\n')\n",
        "  else:\n",
        "    print(t,'OH MY GOD', sep='\\n')\n",
        "\n",
        "else:\n",
        "  if t <= 50:\n",
        "    print(t,'GOOD', sep='\\n')\n",
        "  else:\n",
        "    print(t,'OH MY GOD', sep='\\n')"
      ],
      "execution_count": null,
      "outputs": [
        {
          "output_type": "stream",
          "text": [
            "90\n",
            "18\n",
            "GOOD\n"
          ],
          "name": "stdout"
        }
      ]
    },
    {
      "cell_type": "code",
      "metadata": {
        "colab": {
          "base_uri": "https://localhost:8080/"
        },
        "id": "i21ABSXCm9Nr",
        "outputId": "bf399cec-8eec-4fe2-abed-367c48825a90"
      },
      "source": [
        "a,b = map(int,input().split())\n",
        "\n",
        "s = [a+b,b+a,a-b,b-a,a*b,b*a,a/b,b/a,a**b,b**a]\n",
        "s.sort()\n",
        "print('%.6f' % s[-1])"
      ],
      "execution_count": null,
      "outputs": [
        {
          "output_type": "stream",
          "text": [
            "1 2\n",
            "3.000000\n"
          ],
          "name": "stdout"
        }
      ]
    },
    {
      "cell_type": "code",
      "metadata": {
        "colab": {
          "base_uri": "https://localhost:8080/"
        },
        "id": "Uutp9XZwm9WE",
        "outputId": "0a7abec2-84ba-440b-f950-ba5cf3d31c51"
      },
      "source": [
        "#삼각형 판단하기\n",
        "a, b, c = map(int,input().split())\n",
        "\n",
        "if (a+b > c):\n",
        "  if a == b == c:\n",
        "    print('정삼각형')\n",
        "  elif (a**2) + (b**2) == c**2:\n",
        "    print('직각삼각형')\n",
        "  elif a == b or b == c or a == c:\n",
        "    print('이등변삼각형')\n",
        "  else :\n",
        "    print('삼각형')\n",
        "\n",
        "else:\n",
        "  print('삼각형아님')"
      ],
      "execution_count": null,
      "outputs": [
        {
          "output_type": "stream",
          "text": [
            "3 3 3\n",
            "정삼각형\n"
          ],
          "name": "stdout"
        }
      ]
    },
    {
      "cell_type": "code",
      "metadata": {
        "colab": {
          "base_uri": "https://localhost:8080/"
        },
        "id": "-Bc1uaFsm9Y4",
        "outputId": "88f49afb-95cd-4cb9-a92b-db2ea47ceff8"
      },
      "source": [
        "#이번주 로또\n",
        "#list(map(int,input().split()))\n",
        "a =  list(map(int,input().split()))\n",
        "b =  list(map(int,input().split()))\n",
        "\n",
        "s = 0\n",
        "for i in range(len(b)):\n",
        "  if b[i] in a[0:6]:\n",
        "    s += 1\n",
        "\n",
        "t = 0\n",
        "for i in range(len(b)):\n",
        "  if b[i] in a:\n",
        "    t += 1\n",
        "\n",
        "if s >= 6:\n",
        "  print(1)\n",
        "elif t >= 6:\n",
        "  print(2)\n",
        "elif s >= 5:\n",
        "  print(3)\n",
        "elif s >= 4:\n",
        "  print(4)\n",
        "elif s >=3 :\n",
        "  print(5)\n",
        "else:\n",
        "  print(0)"
      ],
      "execution_count": null,
      "outputs": [
        {
          "output_type": "stream",
          "text": [
            "13 23 24 35 40 45 7\n",
            "2 6 7 23 40 44\n",
            "0\n"
          ],
          "name": "stdout"
        }
      ]
    },
    {
      "cell_type": "code",
      "metadata": {
        "id": "9Z0PvAcbq_Ze",
        "colab": {
          "base_uri": "https://localhost:8080/"
        },
        "outputId": "e81e2285-2faf-4d6a-938c-070b44a6b494"
      },
      "source": [
        "a, b = map(int, input().split())\n",
        "\n",
        "if a > b :\n",
        "  for i in range(b,a+1):\n",
        "    print(i, end=' ')\n",
        "else:\n",
        "  for i in range(a,b+1):\n",
        "    print(i, end=' ')\n"
      ],
      "execution_count": null,
      "outputs": [
        {
          "output_type": "stream",
          "text": [
            "1 -1\n",
            "-1 0 1 "
          ],
          "name": "stdout"
        }
      ]
    },
    {
      "cell_type": "code",
      "metadata": {
        "id": "yIUoZRj2q_hT",
        "colab": {
          "base_uri": "https://localhost:8080/"
        },
        "outputId": "b8ea40e8-3137-4abe-bc11-72e5572628d4"
      },
      "source": [
        "#주식 투자\n",
        "#순수익(총 투자액 - 총 비용)\n",
        "\n",
        "a = int(input())\n",
        "b = int(input())\n",
        "\n",
        "result = a\n",
        "for i in map(int,input().split()):\n",
        "    i = 0.01*i\n",
        "    result = result + result*i\n",
        "print(\"%.0f\"% (result-a))\n",
        "\n",
        "if result>a:\n",
        "    print(\"good\")\n",
        "elif result==a:\n",
        "    print(\"same\")\n",
        "elif result<a:\n",
        "    print(\"bad\")\n",
        "\n"
      ],
      "execution_count": null,
      "outputs": [
        {
          "output_type": "stream",
          "text": [
            "10000\n",
            "4\n",
            "10 -10 -5 5\n",
            "-125\n",
            "bad\n"
          ],
          "name": "stdout"
        }
      ]
    },
    {
      "cell_type": "code",
      "metadata": {
        "colab": {
          "base_uri": "https://localhost:8080/"
        },
        "id": "Jku907tJ-HxB",
        "outputId": "97d01c87-b7bb-4917-f257-82a115d5b5ee"
      },
      "source": [
        "#암호해독\n",
        "#두 소수의 곱으로 나타낼 수 있는 두 소수를 오름차순으로 출력\n",
        "#에라토스테네스 체 사용\n",
        "\n",
        "a = int(input())\n",
        "\n",
        "p = []\n",
        "for n in range(2,a+1):\n",
        "  c = True\n",
        "  for i in range(2,n):\n",
        "    if n % i == 0:\n",
        "      c = False\n",
        "  if c:\n",
        "    p.append(n)            #a의 소수 찾음\n",
        "\n",
        "for i in p:\n",
        "  if a % i == 0:\n",
        "    \n",
        "\n",
        "\n",
        "\n",
        "#   for j in p:\n",
        "#     if i*j == a:\n",
        "#       s = {i,j}\n",
        "# print(s)\n",
        "\n",
        "    \n",
        "# if p == []:\n",
        "#   print('wrong number')\n",
        "# else:\n",
        "#   for i in list(s):\n",
        "#     print(i,end=' ')\n",
        "  \n",
        "\n"
      ],
      "execution_count": null,
      "outputs": [
        {
          "output_type": "stream",
          "text": [
            "21\n",
            "[2, 3, 5, 7, 11, 13, 17, 19]\n"
          ],
          "name": "stdout"
        }
      ]
    },
    {
      "cell_type": "code",
      "metadata": {
        "colab": {
          "base_uri": "https://localhost:8080/"
        },
        "id": "LuLwQMSgWIIo",
        "outputId": "26ac6d6d-3f31-4a19-d0a1-6561c55d2eb3"
      },
      "source": [
        "import math\n",
        "\n",
        "n = 21\n",
        "a = [0]*10\n",
        "index = 0\n",
        "sq = int(math.sqrt(float(n)))\n",
        "\n",
        "  \n",
        "for i in range(2, sq+1):\n",
        "  while n % i == 0:\n",
        "    n /= i\n",
        "    a[index] = i\n",
        "    index += 1\n",
        "    print(index)\n",
        "\n",
        "\n",
        "if n != 1:\n",
        "    a[index] = n\n",
        "    index += 1\n",
        "    print(a[index])\n",
        "if index == 2:\n",
        "    print(int(a[0]), int(a[1]))\n",
        "else:\n",
        "    print('wrong number')"
      ],
      "execution_count": null,
      "outputs": [
        {
          "output_type": "stream",
          "text": [
            "1\n",
            "0\n",
            "3 7\n"
          ],
          "name": "stdout"
        }
      ]
    },
    {
      "cell_type": "code",
      "metadata": {
        "colab": {
          "base_uri": "https://localhost:8080/"
        },
        "id": "MahAzXkjYX8p",
        "outputId": "2d61378f-5370-4dd0-feb9-e004c84fe387"
      },
      "source": [
        "#중첩 반복문\n",
        "a,b = map(int, input().split())\n",
        "\n",
        "for i in range(a,b+1):\n",
        "  for j in range(1,10):\n",
        "    print('{}*{}={}'.format(i,j,i*j))"
      ],
      "execution_count": null,
      "outputs": [
        {
          "output_type": "stream",
          "text": [
            "5 6\n",
            "5*1=5\n",
            "5*2=10\n",
            "5*3=15\n",
            "5*4=20\n",
            "5*5=25\n",
            "5*6=30\n",
            "5*7=35\n",
            "5*8=40\n",
            "5*9=45\n",
            "6*1=6\n",
            "6*2=12\n",
            "6*3=18\n",
            "6*4=24\n",
            "6*5=30\n",
            "6*6=36\n",
            "6*7=42\n",
            "6*8=48\n",
            "6*9=54\n"
          ],
          "name": "stdout"
        }
      ]
    },
    {
      "cell_type": "code",
      "metadata": {
        "colab": {
          "base_uri": "https://localhost:8080/"
        },
        "id": "OXSgDcZib1pL",
        "outputId": "5313375a-2070-4e5b-ea6d-927960cb391a"
      },
      "source": [
        "n = int(input())\n",
        "\n",
        "for i in range(n):\n",
        "    for j in range(n):\n",
        "        print('*', end='')\n",
        "    print()   #줄바꿈"
      ],
      "execution_count": null,
      "outputs": [
        {
          "output_type": "stream",
          "text": [
            "4\n",
            "****\n",
            "****\n",
            "****\n",
            "****\n"
          ],
          "name": "stdout"
        }
      ]
    },
    {
      "cell_type": "code",
      "metadata": {
        "colab": {
          "base_uri": "https://localhost:8080/"
        },
        "id": "qB4qsV7Wbtqa",
        "outputId": "70c86a5c-d253-4c5d-b1da-cf628aacd983"
      },
      "source": [
        "n = int(input())\n",
        "for i in range(1,n+1):\n",
        "    for j in range(0, i):\n",
        "        print('*', end='')\n",
        "    print()"
      ],
      "execution_count": 21,
      "outputs": [
        {
          "output_type": "stream",
          "text": [
            "4\n",
            "*\n",
            "**\n",
            "***\n",
            "****\n"
          ],
          "name": "stdout"
        }
      ]
    },
    {
      "cell_type": "code",
      "metadata": {
        "colab": {
          "base_uri": "https://localhost:8080/"
        },
        "id": "qabC7mHldD5U",
        "outputId": "032c801a-0cca-4afc-ece5-b5b6f74d3f97"
      },
      "source": [
        "n = int(input())\n",
        "for i in range(n,0,-1):\n",
        "    for j in range(0, i):\n",
        "        print('*', end='')\n",
        "    print()"
      ],
      "execution_count": null,
      "outputs": [
        {
          "output_type": "stream",
          "text": [
            "4\n",
            "****\n",
            "***\n",
            "**\n",
            "*\n"
          ],
          "name": "stdout"
        }
      ]
    },
    {
      "cell_type": "code",
      "metadata": {
        "colab": {
          "base_uri": "https://localhost:8080/"
        },
        "id": "uBqP_UCGdwM7",
        "outputId": "0db8c938-957e-4501-81bd-80d6e839fe67"
      },
      "source": [
        "n = int(input())\n",
        "\n",
        "for i in range(0, n):\n",
        "    for j in range(0, i):\n",
        "        print(' ', end='')\n",
        "    for j in range(0, n-i):\n",
        "        print('*', end='')\n",
        "    print()"
      ],
      "execution_count": null,
      "outputs": [
        {
          "output_type": "stream",
          "text": [
            "4\n",
            "****\n",
            " ***\n",
            "  **\n",
            "   *\n"
          ],
          "name": "stdout"
        }
      ]
    },
    {
      "cell_type": "code",
      "metadata": {
        "colab": {
          "base_uri": "https://localhost:8080/"
        },
        "id": "RWwWjwXwbB0w",
        "outputId": "21bdaa44-823c-4a56-ca82-c56ce07d6599"
      },
      "source": [
        "n = 4\n",
        "\n",
        "for i in range(0, n):\n",
        "    if (i == 0) or (i == n-1):\n",
        "        for j in range(0, n):\n",
        "            print('*', end='')\n",
        "        print()\n",
        "    else:\n",
        "        print('*', end='')\n",
        "        for j in range(0, n-2):\n",
        "            print(' ', end='')\n",
        "        print('*', end='')\n",
        "        print()"
      ],
      "execution_count": null,
      "outputs": [
        {
          "output_type": "stream",
          "text": [
            "4\n",
            "****\n",
            "*  *\n",
            "*  *\n",
            "****\n"
          ],
          "name": "stdout"
        }
      ]
    },
    {
      "cell_type": "code",
      "metadata": {
        "colab": {
          "base_uri": "https://localhost:8080/"
        },
        "id": "H1d_AZT0oa_b",
        "outputId": "adbee497-000d-46d9-ff8f-80eee2c71b94"
      },
      "source": [
        "n = int(input())\n",
        "for i in range(1,n+1):\n",
        "    for j in range(0, i):\n",
        "        print('*', end='')\n",
        "    print()\n",
        "for i in range(n-1,0,-1):\n",
        "    for j in range(0, i):\n",
        "        print('*', end='')\n",
        "    print()"
      ],
      "execution_count": 25,
      "outputs": [
        {
          "output_type": "stream",
          "text": [
            "3\n",
            "*\n",
            "**\n",
            "***\n",
            "**\n",
            "*\n"
          ],
          "name": "stdout"
        }
      ]
    },
    {
      "cell_type": "code",
      "metadata": {
        "colab": {
          "base_uri": "https://localhost:8080/"
        },
        "id": "RWILvY_3umTd",
        "outputId": "19061788-9a29-4489-d1e4-9dec879960e3"
      },
      "source": [
        "n = int(input())\n",
        "for i in range(int(n/2), -1, -1):\n",
        "    for j in range(0, i):\n",
        "        print(' ', end='')\n",
        "    for j in range(0, (n - i * 2)):\n",
        "        print('*', end='')\n",
        "    for j in range(0, i):\n",
        "        print(' ', end='')\n",
        "    print()"
      ],
      "execution_count": 54,
      "outputs": [
        {
          "output_type": "stream",
          "text": [
            "7\n",
            "   *   \n",
            "  ***  \n",
            " ***** \n",
            "*******\n"
          ],
          "name": "stdout"
        }
      ]
    }
  ]
}