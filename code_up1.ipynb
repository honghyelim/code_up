{
  "nbformat": 4,
  "nbformat_minor": 0,
  "metadata": {
    "colab": {
      "name": "code_up1.ipynb",
      "provenance": [],
      "collapsed_sections": [],
      "authorship_tag": "ABX9TyOEm39lHYD8KpSvkxDah782",
      "include_colab_link": true
    },
    "kernelspec": {
      "name": "python3",
      "display_name": "Python 3"
    },
    "language_info": {
      "name": "python"
    }
  },
  "cells": [
    {
      "cell_type": "markdown",
      "metadata": {
        "id": "view-in-github",
        "colab_type": "text"
      },
      "source": [
        "<a href=\"https://colab.research.google.com/github/honghyelim/code_up100/blob/main/code_up1.ipynb\" target=\"_parent\"><img src=\"https://colab.research.google.com/assets/colab-badge.svg\" alt=\"Open In Colab\"/></a>"
      ]
    },
    {
      "cell_type": "markdown",
      "metadata": {
        "id": "c_2bFuEpxB2O"
      },
      "source": [
        "##[기초-입출력] "
      ]
    },
    {
      "cell_type": "code",
      "metadata": {
        "colab": {
          "base_uri": "https://localhost:8080/"
        },
        "id": "leljl83bw_hA",
        "outputId": "12bcc507-2f8c-4d94-b623-1ad174a2d1bc"
      },
      "source": [
        "#연월일 입력받아 순서 바꾸기\n",
        "#1\n",
        "date = [x for x in input().strip().split('.')]\n",
        "print(date[2]+'-'+date[1]+'-'+date[0])"
      ],
      "execution_count": 3,
      "outputs": [
        {
          "output_type": "stream",
          "text": [
            "2021.07.04\n",
            "04-07-2021\n"
          ],
          "name": "stdout"
        }
      ]
    },
    {
      "cell_type": "code",
      "metadata": {
        "colab": {
          "base_uri": "https://localhost:8080/"
        },
        "id": "Vq57HvPyxc8h",
        "outputId": "ca62164e-b9d5-4b01-d987-bd2bb0bea653"
      },
      "source": [
        "#2\n",
        "date = input().split('.')\n",
        "date.reverse()\n",
        "print('-'.join(date))"
      ],
      "execution_count": 4,
      "outputs": [
        {
          "output_type": "stream",
          "text": [
            "2021.07.04\n",
            "04-07-2021\n"
          ],
          "name": "stdout"
        }
      ]
    },
    {
      "cell_type": "markdown",
      "metadata": {
        "id": "wYbpTgfqx_WL"
      },
      "source": [
        "### '구분자'.join(리스트)\n",
        "리스트를 구분자로 합쳐 하나의 문자열로 출력  \n",
        "ex) a = ['a','b','c']  \n",
        "print(''.join(a)) \n",
        "--> abc"
      ]
    },
    {
      "cell_type": "code",
      "metadata": {
        "colab": {
          "base_uri": "https://localhost:8080/"
        },
        "id": "x3xnR17eyx0P",
        "outputId": "462dcf87-db4c-4334-abb2-383787805a60"
      },
      "source": [
        "s = input().split('-')\n",
        "\n",
        "print(''.join(s))"
      ],
      "execution_count": 5,
      "outputs": [
        {
          "output_type": "stream",
          "text": [
            "203030-20303\n",
            "20303020303\n"
          ],
          "name": "stdout"
        }
      ]
    },
    {
      "cell_type": "code",
      "metadata": {
        "colab": {
          "base_uri": "https://localhost:8080/"
        },
        "id": "AUQqRr8Yxuba",
        "outputId": "12e86627-dc55-4599-b3c0-4513f55877d3"
      },
      "source": [
        "#단어 1개 입력받아 나누어 출력하기\n",
        "#1\n",
        "s = input()\n",
        "for i in s:\n",
        "    print(i)"
      ],
      "execution_count": 9,
      "outputs": [
        {
          "output_type": "stream",
          "text": [
            "hello\n",
            "h\n",
            "e\n",
            "l\n",
            "l\n",
            "o\n"
          ],
          "name": "stdout"
        }
      ]
    },
    {
      "cell_type": "markdown",
      "metadata": {
        "id": "xocM4tVR2KO9"
      },
      "source": [
        "## [기초-출력변환]"
      ]
    },
    {
      "cell_type": "code",
      "metadata": {
        "colab": {
          "base_uri": "https://localhost:8080/"
        },
        "id": "AHp_68fK2NFh",
        "outputId": "0fb2a0e3-cb97-4299-8a0a-8eab9ed4afbd"
      },
      "source": [
        "#10진 정수 입력받아 16진수로 출력하기\n",
        "#1\n",
        "a = input()\n",
        "n = int(a)           \n",
        "print('%x'% n)  #16진수(hexadecimal) 소문자 형태 문자열로 출력"
      ],
      "execution_count": 11,
      "outputs": [
        {
          "output_type": "stream",
          "text": [
            "255\n",
            "ff\n"
          ],
          "name": "stdout"
        }
      ]
    },
    {
      "cell_type": "code",
      "metadata": {
        "colab": {
          "base_uri": "https://localhost:8080/"
        },
        "id": "bKd4AUlp2WGL",
        "outputId": "c687e661-c771-4cb0-870e-ca7da7cc1061"
      },
      "source": [
        "#10진 정수 입력받아 16진수로 출력하기\n",
        "print('%x'.upper()%int(input()))"
      ],
      "execution_count": 12,
      "outputs": [
        {
          "output_type": "stream",
          "text": [
            "255\n",
            "FF\n"
          ],
          "name": "stdout"
        }
      ]
    },
    {
      "cell_type": "code",
      "metadata": {
        "colab": {
          "base_uri": "https://localhost:8080/"
        },
        "id": "ezOOt18V5RbF",
        "outputId": "e018fe1d-fc2f-4e2e-d3be-693da8935067"
      },
      "source": [
        "#16진수 정수 입력받아 8진수로 출력하기\n",
        "print('%o' % int(input(), 16))"
      ],
      "execution_count": 14,
      "outputs": [
        {
          "output_type": "stream",
          "text": [
            "f\n",
            "17\n"
          ],
          "name": "stdout"
        }
      ]
    },
    {
      "cell_type": "code",
      "metadata": {
        "colab": {
          "base_uri": "https://localhost:8080/"
        },
        "id": "JB2rj4z_5fyG",
        "outputId": "898437ec-965f-4f0b-cff5-e5dfb4b03af9"
      },
      "source": [
        "#영문자 1개 입력받아 10진수로 변환하기\n",
        "print(ord(input())) #ord() 문자를 10진수로 변환"
      ],
      "execution_count": 15,
      "outputs": [
        {
          "output_type": "stream",
          "text": [
            "A\n",
            "65\n"
          ],
          "name": "stdout"
        }
      ]
    },
    {
      "cell_type": "code",
      "metadata": {
        "colab": {
          "base_uri": "https://localhost:8080/"
        },
        "id": "pivdzsDe5f5o",
        "outputId": "1c5a8b08-76df-4b5b-9b47-83205d4739bf"
      },
      "source": [
        "#정수 입력받아 유니코드 문자로 변환하기\n",
        "print(chr(int(input())))"
      ],
      "execution_count": 17,
      "outputs": [
        {
          "output_type": "stream",
          "text": [
            "65\n",
            "A\n"
          ],
          "name": "stdout"
        }
      ]
    },
    {
      "cell_type": "markdown",
      "metadata": {
        "id": "fkfpb2493IDw"
      },
      "source": [
        "## 문자열 포매팅\n",
        "\n",
        "### 1) % 대입 : 문자열에 값을 대입하는 방법\n",
        "\n",
        "n = 10  \n",
        "print('ten: %d' %n)  \n",
        "--> ten : 10\n",
        "\n",
        "a = 10  \n",
        "b = 20  \n",
        "print('%d + %d = %d' %(a, b, a+b))  \n",
        "--> 10+20 = 30\n",
        "\n",
        "코드\t설명  \n",
        "%s :\t문자열(string)  \n",
        "%c\t: 문자 1개(character)  \n",
        "%d\t: 정수(integer)  \n",
        "%f\t: 부동소수(floating-point)  \n",
        "%o\t: 8진수  \n",
        "%x\t: 16진수  \n",
        "%%\t: Literal % (문자로서 % 자체를 표현)  \n",
        "\n",
        "### 2) format() : 문자열 안에 변수를 대입\n",
        "\n",
        "a = 10  \n",
        "b = 20  \n",
        "print('{} + {} = {}'.format(a, b, a+b))  \n",
        "--> 10 + 20 = 30\n",
        "\n",
        "{0}, {1}과 같은 숫자 인덱싱 방법 대신 {number}, {name}같이 키, 값 방법도 사용 가능  \n",
        "\n",
        "print('I have a {number} apples. and my name is {name}'.format(number = 10, name = 'John'))\n",
        "\n",
        "\n"
      ]
    },
    {
      "cell_type": "markdown",
      "metadata": {
        "id": "Y1sLXgV16gZ3"
      },
      "source": [
        "## [기초-값변환]\n"
      ]
    },
    {
      "cell_type": "code",
      "metadata": {
        "colab": {
          "base_uri": "https://localhost:8080/"
        },
        "id": "uP2OxgHz2WMb",
        "outputId": "c9a32748-8155-4361-986d-6b1681eb367f"
      },
      "source": [
        "#문자 1개 입력받아 다음 문자 출력하기\n",
        "print(chr(ord(input())+1)) # 문자를 10진수로 변환한뒤 +1 다시 문자로 변환"
      ],
      "execution_count": 18,
      "outputs": [
        {
          "output_type": "stream",
          "text": [
            "a\n",
            "b\n"
          ],
          "name": "stdout"
        }
      ]
    },
    {
      "cell_type": "code",
      "metadata": {
        "colab": {
          "base_uri": "https://localhost:8080/"
        },
        "id": "4iVNwMWe2WSV",
        "outputId": "c05d26b8-8804-461b-e53f-daf86278f126"
      },
      "source": [
        "#소수점 이하 자리 반환하기\n",
        "a=float(input())\n",
        "print(format(a, \".2f\") )"
      ],
      "execution_count": 19,
      "outputs": [
        {
          "output_type": "stream",
          "text": [
            "3.145234\n",
            "3.15\n"
          ],
          "name": "stdout"
        }
      ]
    },
    {
      "cell_type": "code",
      "metadata": {
        "colab": {
          "base_uri": "https://localhost:8080/"
        },
        "id": "P27SQTBE8i02",
        "outputId": "47d2eb7a-f22f-4378-8885-285d50473f27"
      },
      "source": [
        "print(round(float(input()), 2))"
      ],
      "execution_count": 20,
      "outputs": [
        {
          "output_type": "stream",
          "text": [
            "3.14543\n",
            "3.15\n"
          ],
          "name": "stdout"
        }
      ]
    },
    {
      "cell_type": "code",
      "metadata": {
        "colab": {
          "base_uri": "https://localhost:8080/"
        },
        "id": "FYMHCiMQ8k4O",
        "outputId": "ef12214d-ec19-4b29-f4f5-cd3bf119759a"
      },
      "source": [
        "a, b = map(float, input().split())\n",
        "print('%.3f' % (a / b))"
      ],
      "execution_count": 23,
      "outputs": [
        {
          "output_type": "stream",
          "text": [
            "10.0 3.0\n",
            "3.333\n"
          ],
          "name": "stdout"
        }
      ]
    },
    {
      "cell_type": "code",
      "metadata": {
        "colab": {
          "base_uri": "https://localhost:8080/"
        },
        "id": "keXR8bA59Sx-",
        "outputId": "e8ca4dcf-7155-4efa-ea76-59e3d3074aa6"
      },
      "source": [
        "#정수 2개 입력받아 자동 계산하기\n",
        "#첫 번째 줄에 합\n",
        "#두 번째 줄에 차,\n",
        "#세 번째 줄에 곱,\n",
        "#네 번째 줄에 몫,\n",
        "#다섯 번째 줄에 나머지,\n",
        "#여섯 번째 줄에 나눈 값을 순서대로 출력한다.\n",
        "#(실수, 소수점 이하 둘째 자리까지의 정확도로 출력)\n",
        "\n",
        "a, b = map(int, input().split())\n",
        "print(a+b)\n",
        "print(a-b)\n",
        "print(a*b)\n",
        "print(a//b)\n",
        "print(a%b)\n",
        "print('%.2f' % (a/b))\n",
        "\n"
      ],
      "execution_count": 25,
      "outputs": [
        {
          "output_type": "stream",
          "text": [
            "10 3\n",
            "13\n",
            "7\n",
            "30\n",
            "3\n",
            "1\n",
            "3.33\n"
          ],
          "name": "stdout"
        }
      ]
    },
    {
      "cell_type": "code",
      "metadata": {
        "colab": {
          "base_uri": "https://localhost:8080/"
        },
        "id": "gvOXt_2g_OVR",
        "outputId": "112c3e8c-f93a-42e6-d75d-8e817e3b71ad"
      },
      "source": [
        "a, b, c = map(int, input().split()) \n",
        "avg = (a+b+c)/3 \n",
        "print((a+b+c),\"%.2f\" % avg)"
      ],
      "execution_count": 32,
      "outputs": [
        {
          "output_type": "stream",
          "text": [
            "1 2 3\n",
            "6 2.00\n"
          ],
          "name": "stdout"
        }
      ]
    },
    {
      "cell_type": "markdown",
      "metadata": {
        "id": "kezYXyPHAE4x"
      },
      "source": [
        "## [기초-비트시프트연산]"
      ]
    },
    {
      "cell_type": "code",
      "metadata": {
        "colab": {
          "base_uri": "https://localhost:8080/"
        },
        "id": "Sq3YH-mR_ysd",
        "outputId": "c5c1d3ea-1778-4c70-f239-b9544ac07f64"
      },
      "source": [
        "#<< : 오른쪽에 0이 주어진 개수만큼 추가, >> : 왼쪽에 0이나 1이 개수만큼 추가, 가장 오늘쪽 1비트는 사라짐\n",
        "print(int(input())<<1)"
      ],
      "execution_count": 35,
      "outputs": [
        {
          "output_type": "stream",
          "text": [
            "1024\n",
            "2048\n"
          ],
          "name": "stdout"
        }
      ]
    },
    {
      "cell_type": "code",
      "metadata": {
        "colab": {
          "base_uri": "https://localhost:8080/"
        },
        "id": "h2Xrk9XnAYyJ",
        "outputId": "d077ce2e-70eb-4661-c2ad-4e8f7a569729"
      },
      "source": [
        "a, b = map(int, input().split())\n",
        "print(a << b)"
      ],
      "execution_count": 40,
      "outputs": [
        {
          "output_type": "stream",
          "text": [
            "1 3\n",
            "8\n"
          ],
          "name": "stdout"
        }
      ]
    }
  ]
}