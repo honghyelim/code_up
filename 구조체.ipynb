{
  "nbformat": 4,
  "nbformat_minor": 0,
  "metadata": {
    "colab": {
      "name": "구조체.ipynb",
      "provenance": [],
      "collapsed_sections": [],
      "authorship_tag": "ABX9TyPwxe+UVCfHXvDAVwortHgK",
      "include_colab_link": true
    },
    "kernelspec": {
      "name": "python3",
      "display_name": "Python 3"
    },
    "language_info": {
      "name": "python"
    }
  },
  "cells": [
    {
      "cell_type": "markdown",
      "metadata": {
        "id": "view-in-github",
        "colab_type": "text"
      },
      "source": [
        "<a href=\"https://colab.research.google.com/github/honghyelim/code_up100/blob/main/%EA%B5%AC%EC%A1%B0%EC%B2%B4.ipynb\" target=\"_parent\"><img src=\"https://colab.research.google.com/assets/colab-badge.svg\" alt=\"Open In Colab\"/></a>"
      ]
    },
    {
      "cell_type": "code",
      "metadata": {
        "colab": {
          "base_uri": "https://localhost:8080/"
        },
        "id": "tSvCIkcHaWug",
        "outputId": "a2cf3f87-fc24-4fb0-b5b7-5b7b30e69c5b"
      },
      "source": [
        " #입체기동장치 생산공장\n",
        "import collections\n",
        "s = collections.namedtuple('s',['a','b'])\n",
        "ss=list()\n",
        "\n",
        "n = int(input())\n",
        "for i in range(n):\n",
        "  a,b = map(int,input().split())\n",
        "  ss.append(s(a,b))\n",
        "\n",
        "ss.sort()\n",
        "\n",
        "for i in range(n):\n",
        "  print(ss[i].a,ss[i].b)"
      ],
      "execution_count": null,
      "outputs": [
        {
          "output_type": "stream",
          "text": [
            "3\n",
            "2 10\n",
            "3 20\n",
            "1 30\n",
            "1 30\n",
            "2 10\n",
            "3 20\n"
          ],
          "name": "stdout"
        }
      ]
    },
    {
      "cell_type": "code",
      "metadata": {
        "colab": {
          "base_uri": "https://localhost:8080/"
        },
        "id": "4NPJsMzGcEE3",
        "outputId": "af1ba5de-58ea-4b99-a5b9-5f42d4949110"
      },
      "source": [
        "#데이터 재정렬\n",
        "from collections import namedtuple\n",
        "s = namedtuple('s',['id','a'])\n",
        "ss = list()\n",
        "\n",
        "a = [50,23,54,24,123] #list(map(int,input().split()))\n",
        "b = sorted(a)\n",
        "\n",
        "n = 5 #int(input())\n",
        "for i in range(n):\n",
        "    ss.append(s(i,b[i]))\n",
        "  \n",
        "\n",
        "for i in a: #[50,23,54,24,123]\n",
        "  for j in range(len(a)):  #[s(id=0, a=23), s(id=1, a=24), s(id=2, a=50), s(id=3, a=54), s(id=4, a=123)]\n",
        "    if ss[j].a == i:\n",
        "      print(ss[j].id,end = ' ')\n"
      ],
      "execution_count": null,
      "outputs": [
        {
          "output_type": "stream",
          "text": [
            "2 0 3 1 4 "
          ],
          "name": "stdout"
        }
      ]
    },
    {
      "cell_type": "code",
      "metadata": {
        "colab": {
          "base_uri": "https://localhost:8080/"
        },
        "id": "7SvLMq2d2D8b",
        "outputId": "18e0c072-7937-40ba-e626-6ebf57d9bc74"
      },
      "source": [
        "n = 5 #int(input())\n",
        "\n",
        "ls = [50, 23, 54, 24, 123]  #list(map(int, input().split()))\n",
        "ls2 = sorted(ls)\n",
        "\n",
        "di = dict(zip(ls2, range(n))) #{23: 0, 24: 1, 50: 2, 54: 3, 123: 4}\n",
        "#di[52] = '1'\n",
        "\n",
        "for i in ls:\n",
        "    print(di[i], end=\" \")"
      ],
      "execution_count": null,
      "outputs": [
        {
          "output_type": "stream",
          "text": [
            "{23: 0, 24: 1, 50: 2, 54: 3, 123: 4}\n",
            "2 0 3 1 4 "
          ],
          "name": "stdout"
        }
      ]
    },
    {
      "cell_type": "code",
      "metadata": {
        "colab": {
          "base_uri": "https://localhost:8080/"
        },
        "id": "Di7J-SRmdl38",
        "outputId": "0ee841cb-2b56-46ab-adb4-58664886ecfb"
      },
      "source": [
        "#성적표 출력\n",
        "import collections\n",
        "n, m = map(int,input().split())\n",
        "ss = list()\n",
        "s = collections.namedtuple('s',['name','score'])\n",
        "\n",
        "for i in range(n):\n",
        "  nm,sc = input().split()\n",
        "  ss.append(s(nm,int(sc)))\n",
        "\n",
        "ss = sorted(ss,key = lambda x : x[1],reverse=True)\n",
        "\n",
        "for i in range(m):\n",
        "  print(ss[i].name)"
      ],
      "execution_count": null,
      "outputs": [
        {
          "output_type": "stream",
          "text": [
            "4 2\n",
            "dasd 30\n",
            "dasd 20\n",
            "asdaa 70\n",
            "sdf 90\n",
            "sdf\n",
            "asdaa\n"
          ],
          "name": "stdout"
        }
      ]
    },
    {
      "cell_type": "code",
      "metadata": {
        "colab": {
          "base_uri": "https://localhost:8080/"
        },
        "id": "gg2mcgeDdl7K",
        "outputId": "9baee5a6-9dd8-431d-fa31-10fe99f157f3"
      },
      "source": [
        "#성적표 출력\n",
        "import collections\n",
        "n, m = map(int, input().split())\n",
        "studs = list()\n",
        "Student = collections.namedtuple('Student',['name','score'])\n",
        "\n",
        "for i in range(n) :\n",
        "\tnm, sc = input().split()\n",
        "\tstuds.append(Student(nm, int(sc)))\n",
        "\n",
        "for size in range(1, n) :\n",
        "\tval = studs[size]\n",
        "\ti = size\n",
        "\twhile i > 0 and studs[i-1].score < val.score :\n",
        "\t\tstuds[i] = studs[i-1]\n",
        "\t\ti -= 1\n",
        "\tstuds[i] = val\n",
        "\n",
        "for i in range(m) :\n",
        "\tprint(studs[i].name)"
      ],
      "execution_count": null,
      "outputs": [
        {
          "output_type": "stream",
          "text": [
            "4 2\n",
            "fdf 40\n",
            "fsdfs 50\n",
            "sdfsd 40\n",
            "fsdfs 30\n",
            "fsdfs\n",
            "fdf\n"
          ],
          "name": "stdout"
        }
      ]
    },
    {
      "cell_type": "code",
      "metadata": {
        "colab": {
          "base_uri": "https://localhost:8080/"
        },
        "id": "aWHeMlIodl8-",
        "outputId": "301292f9-e12b-4c02-e4c2-f60473d68b94"
      },
      "source": [
        "#1등한 학생의 성적\n",
        "import collections\n",
        "s = collections.namedtuple('s',['name','s1','s2','s3'])\n",
        "ss = list()\n",
        "\n",
        "n = int(input())\n",
        "for i in range(n):\n",
        "  name,s1,s2,s3 = input().split()\n",
        "  ss.append(s(name,int(s1),int(s2),int(s3))) #ss = [s(name=jeon,s1=95..)]\n",
        "\n",
        "ss1 = sorted(ss, key=lambda x :x[1],reverse=True)\n",
        "ss2 = sorted(ss, key=lambda x :x[2],reverse=True) # s.s.(id=3,name=bae)\n",
        "ss3 = sorted(ss, key=lambda x :x[3],reverse=True)\n",
        "\n",
        "b = ss1[0].name #bae\n",
        "\n",
        "for i in range(n):\n",
        "  if ss2[i].name == b:\n",
        "    print(b, i+1,end=' ')\n",
        "\n",
        "for i in range(n):\n",
        "  if ss3[i].name == b:\n",
        "    print(i+1)"
      ],
      "execution_count": null,
      "outputs": [
        {
          "output_type": "stream",
          "text": [
            "4\n",
            "j 95 80 100\n",
            "k 59 85 75\n",
            "l 90 100 75\n",
            "b 100 82 80\n",
            "b 3 2\n"
          ],
          "name": "stdout"
        }
      ]
    },
    {
      "cell_type": "code",
      "metadata": {
        "colab": {
          "base_uri": "https://localhost:8080/"
        },
        "id": "bPgs6-lloAoZ",
        "outputId": "e75e6537-f81c-45e7-eb95-6f4610248123"
      },
      "source": [
        "# 3016\n",
        "## namedtuple\n",
        "\n",
        "import collections\n",
        "\n",
        "s = collections.namedtuple('s',['name','s1','s2','s3'])\n",
        "score = list()\n",
        "\n",
        "n = int(input())\n",
        "for i in range(n):\n",
        "    name, s1, s2, s3 = input().split()\n",
        "    score.append(s(name, int(s1), int(s2), int(s3)))\n",
        "    \n",
        "ss1 = sorted(score, key=lambda x: x[1], reverse=True)\n",
        "ss2 = sorted(score, key=lambda x: x[2], reverse=True)\n",
        "ss3 = sorted(score, key=lambda x: x[3], reverse=True)\n",
        "\n",
        "# ss1에서 s1 일등한 학생 이름이랑 인덱스 찾기\n",
        "# ex) Bae, 3\n",
        "stu_name = ss1[0].name\n",
        "\n",
        "\n",
        "# 학생의 s2와 ss2의 s2 비교해서 ss2에서 등수 찾기\n",
        "for i in range(n):\n",
        "    if ss1[0].s2 == ss2[i].s2:\n",
        "        s2_rank = i # 인덱스 번호이므로 출력할때 1 더해줌\n",
        "        break\n",
        "\n",
        "# 위랑 똑같이\n",
        "for i in range(n):\n",
        "    if ss1[0].s3 == ss3[i].s3:\n",
        "        s3_rank = i\n",
        "        break\n",
        "        \n",
        "print(stu_name, s2_rank+1, s3_rank+1)"
      ],
      "execution_count": null,
      "outputs": [
        {
          "output_type": "stream",
          "text": [
            "4\n",
            "Jeon 95 100 100\n",
            "Kim 59 100 80\n",
            "Lee 90 100 80\n",
            "Bae 100 82 80\n",
            "Bae 4 3 "
          ],
          "name": "stdout"
        }
      ]
    },
    {
      "cell_type": "code",
      "metadata": {
        "colab": {
          "base_uri": "https://localhost:8080/"
        },
        "id": "XWY2PBfHwoDn",
        "outputId": "2c21cd82-0677-483c-b0f7-36001da4ab75"
      },
      "source": [
        "n = int(input())\n",
        "schedules = [list(input().split()) for _ in range(n)]\n",
        "\n",
        "\n",
        "# 년도기준으로 비교, 같으면 월로 비교, 같으면 일, 같으면 스케줄명 사전순으로 비교\n",
        "schedules = sorted(schedules, key=lambda x: (int(x[1]), int(x[2]), int(x[3]), x[0]))\n",
        "\n",
        "# 결과 출력\n",
        "for i in schedules:\n",
        "    print(i[0])"
      ],
      "execution_count": null,
      "outputs": [
        {
          "output_type": "stream",
          "text": [
            "5\n",
            "sleep 2014 05 23\n",
            "golf 2014 06 02\n",
            "travel 2015 11 22\n",
            "baseball 2013 02 01\n",
            "study 2014 05 23\n",
            "baseball\n",
            "sleep\n",
            "study\n",
            "golf\n",
            "travel\n"
          ],
          "name": "stdout"
        }
      ]
    },
    {
      "cell_type": "code",
      "metadata": {
        "id": "xD5B0t4txfb4"
      },
      "source": [
        "#정을 참여 학생 리스트 만들기\n",
        "\n"
      ],
      "execution_count": null,
      "outputs": []
    },
    {
      "cell_type": "code",
      "metadata": {
        "id": "OtdFREZO0KoY",
        "colab": {
          "base_uri": "https://localhost:8080/"
        },
        "outputId": "4ce7198c-86d9-4fa2-f6bb-975a9f0af754"
      },
      "source": [
        "#기억력 테스트9\n",
        "\n",
        "a,b = map(int,input().split())\n",
        "import collections\n",
        "s = collections.namedtuple('s',['name','s1'])\n",
        "data = list()\n",
        "\n",
        "for i in range(a):\n",
        "    name, s1 = input().split()\n",
        "    data.append(s(name, int(s1)))\n",
        "\n",
        "st = [input() for _ in range(b)]\n",
        "\n",
        "for i in range(b):\n",
        "  c = 0\n",
        "  for j in range(a):\n",
        "    if st[i] == data[j].name:\n",
        "      c += data[j].s1\n",
        "  \n",
        "  print(c)\n"
      ],
      "execution_count": 40,
      "outputs": [
        {
          "output_type": "stream",
          "text": [
            "10\n",
            "5\n",
            "10\n",
            "0\n"
          ],
          "name": "stdout"
        }
      ]
    }
  ]
}