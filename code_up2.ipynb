{
  "nbformat": 4,
  "nbformat_minor": 0,
  "metadata": {
    "colab": {
      "name": "code_up2.ipynb",
      "provenance": [],
      "collapsed_sections": [],
      "authorship_tag": "ABX9TyPT2+wUop9x0B4mReqrfJ7C",
      "include_colab_link": true
    },
    "kernelspec": {
      "name": "python3",
      "display_name": "Python 3"
    },
    "language_info": {
      "name": "python"
    }
  },
  "cells": [
    {
      "cell_type": "markdown",
      "metadata": {
        "id": "view-in-github",
        "colab_type": "text"
      },
      "source": [
        "<a href=\"https://colab.research.google.com/github/honghyelim/code_up100/blob/main/code_up2.ipynb\" target=\"_parent\"><img src=\"https://colab.research.google.com/assets/colab-badge.svg\" alt=\"Open In Colab\"/></a>"
      ]
    },
    {
      "cell_type": "markdown",
      "metadata": {
        "id": "seyEM3-gADRw"
      },
      "source": [
        "## [기초-조건/선택실행 구조]"
      ]
    },
    {
      "cell_type": "code",
      "metadata": {
        "colab": {
          "base_uri": "https://localhost:8080/"
        },
        "id": "WW6IGHIb_9qx",
        "outputId": "81ccf44a-cd6b-43b7-f432-de13857e9dd3"
      },
      "source": [
        "a,b,c = map(int,input().split())\n",
        "\n",
        "#print(min(a))\n",
        "print((a if a < b else b) if (a if a < b else b) < c else c)"
      ],
      "execution_count": null,
      "outputs": [
        {
          "output_type": "stream",
          "text": [
            "3 -1  5\n",
            "-1\n"
          ],
          "name": "stdout"
        }
      ]
    },
    {
      "cell_type": "code",
      "metadata": {
        "colab": {
          "base_uri": "https://localhost:8080/"
        },
        "id": "AsTmcSOVBKGZ",
        "outputId": "f0cce6ce-ba9f-4ed3-af17-8d3480209b4b"
      },
      "source": [
        "a = list(map(int, input().split()))\n",
        "\n",
        "for i in a:\n",
        "    if i % 2 == 0:\n",
        "        print(i)"
      ],
      "execution_count": null,
      "outputs": [
        {
          "output_type": "stream",
          "text": [
            "2 5 6\n",
            "2\n",
            "6\n"
          ],
          "name": "stdout"
        }
      ]
    },
    {
      "cell_type": "code",
      "metadata": {
        "colab": {
          "base_uri": "https://localhost:8080/"
        },
        "id": "XlFGOXWeCxTx",
        "outputId": "0995f90d-1856-45db-8090-ff8f34e94454"
      },
      "source": [
        "n = int(input())\n",
        "\n",
        "if n<0 :\n",
        "  if n%2==0 :\n",
        "    print('A')\n",
        "  else :\n",
        "    print('B')\n",
        "else :\n",
        "  if n%2==0 :\n",
        "    print('C')\n",
        "  else :\n",
        "    print('D')"
      ],
      "execution_count": null,
      "outputs": [
        {
          "output_type": "stream",
          "text": [
            "30\n",
            "C\n"
          ],
          "name": "stdout"
        }
      ]
    },
    {
      "cell_type": "code",
      "metadata": {
        "colab": {
          "base_uri": "https://localhost:8080/"
        },
        "id": "Ihmq0JiGC0gu",
        "outputId": "0635b2cf-5e61-444e-c168-079408bdbd26"
      },
      "source": [
        "a = int(input())\n",
        "\n",
        "if a >= 90:\n",
        "  print('A')\n",
        "elif a >= 70:\n",
        "  print('B')\n",
        "elif a >= 40:\n",
        "  print('C')\n",
        "else:\n",
        "  print('D')\n"
      ],
      "execution_count": null,
      "outputs": [
        {
          "output_type": "stream",
          "text": [
            "75\n",
            "B\n"
          ],
          "name": "stdout"
        }
      ]
    },
    {
      "cell_type": "code",
      "metadata": {
        "colab": {
          "base_uri": "https://localhost:8080/"
        },
        "id": "aznukRWgC0my",
        "outputId": "bd236058-5802-4e06-8ead-32f86fe38a5f"
      },
      "source": [
        "a = input()\n",
        "\n",
        "if a == 'A':\n",
        "  print('best!!!')\n",
        "elif a == 'B':\n",
        "  print('good!!')\n",
        "elif a == 'C':\n",
        "  print('run!')\n",
        "elif a == 'D':\n",
        "  print('slowly~')\n",
        "else:\n",
        "  print('what?')"
      ],
      "execution_count": null,
      "outputs": [
        {
          "output_type": "stream",
          "text": [
            "A\n",
            "best!!!\n"
          ],
          "name": "stdout"
        }
      ]
    },
    {
      "cell_type": "code",
      "metadata": {
        "colab": {
          "base_uri": "https://localhost:8080/"
        },
        "id": "bpOjiD0YC0pc",
        "outputId": "52db69ac-d33f-4e77-831e-5a913ba23624"
      },
      "source": [
        "s = int(input())\n",
        "a = [12,1,2]\n",
        "b = [3,4,5]\n",
        "c = [6,7,8]\n",
        "\n",
        "if s in a:\n",
        "  print('winter')\n",
        "elif s in b:\n",
        "  print('spring')\n",
        "elif s in c:\n",
        "  print('summer')\n",
        "else:\n",
        "  print('fall')"
      ],
      "execution_count": null,
      "outputs": [
        {
          "output_type": "stream",
          "text": [
            "10\n",
            "fall\n"
          ],
          "name": "stdout"
        }
      ]
    },
    {
      "cell_type": "markdown",
      "metadata": {
        "id": "3eqedh2WJDoD"
      },
      "source": [
        "## 기초-반복실행구조"
      ]
    },
    {
      "cell_type": "code",
      "metadata": {
        "colab": {
          "base_uri": "https://localhost:8080/"
        },
        "id": "m7KBJRf3JJ3c",
        "outputId": "e5b184ce-708f-409b-f3bf-4a77159dfbe1"
      },
      "source": [
        "#0이 입력될 때까지 무한 출력하기\n",
        "n = 1     \n",
        "while n! = 0 :     #종료 조건 : n이 0일때까지 무한 반복\n",
        "  n = int(input())\n",
        "  if n! = 0 :\n",
        "    print(n)"
      ],
      "execution_count": null,
      "outputs": [
        {
          "output_type": "stream",
          "text": [
            "7\n",
            "7\n",
            "4\n",
            "4\n",
            "0\n"
          ],
          "name": "stdout"
        }
      ]
    },
    {
      "cell_type": "code",
      "metadata": {
        "colab": {
          "base_uri": "https://localhost:8080/"
        },
        "id": "lJRmRfADJJ56",
        "outputId": "31bd0209-c018-4941-f7a3-a6f021d64764"
      },
      "source": [
        "i = True\n",
        "while(i):\n",
        "    num = int(input())\n",
        "    if(num == 0):\n",
        "        i = False\n",
        "    else:\n",
        "        print(num)"
      ],
      "execution_count": null,
      "outputs": [
        {
          "output_type": "stream",
          "text": [
            "0\n"
          ],
          "name": "stdout"
        }
      ]
    },
    {
      "cell_type": "code",
      "metadata": {
        "colab": {
          "base_uri": "https://localhost:8080/"
        },
        "id": "vbvxmzIIJJ8I",
        "outputId": "ca69526d-f3b6-452a-852e-ee6443003b1c"
      },
      "source": [
        "n = int(input())\n",
        "while n != 0 :  \n",
        "  print(n)\n",
        "  n -= 1"
      ],
      "execution_count": null,
      "outputs": [
        {
          "output_type": "stream",
          "text": [
            "5\n",
            "5\n",
            "4\n",
            "3\n",
            "2\n",
            "1\n"
          ],
          "name": "stdout"
        }
      ]
    },
    {
      "cell_type": "code",
      "metadata": {
        "colab": {
          "base_uri": "https://localhost:8080/"
        },
        "id": "PMVr_mifJJ-m",
        "outputId": "d33773fe-e0fe-444e-d741-79ee14107e28"
      },
      "source": [
        "n = int(input())\n",
        "while n != 0:  \n",
        "  print(n-1)\n",
        "  n -= 1"
      ],
      "execution_count": null,
      "outputs": [
        {
          "output_type": "stream",
          "text": [
            "5\n",
            "4\n",
            "3\n",
            "2\n",
            "1\n",
            "0\n"
          ],
          "name": "stdout"
        }
      ]
    },
    {
      "cell_type": "code",
      "metadata": {
        "colab": {
          "base_uri": "https://localhost:8080/"
        },
        "id": "SKoi6sR5LW6m",
        "outputId": "c0c580c3-d570-4721-b876-f63e31fd69da"
      },
      "source": [
        "c = ord(input())\n",
        "t = ord('a')\n",
        "while t<=c :\n",
        "  print(chr(t), end=' ')\n",
        "  t += 1"
      ],
      "execution_count": null,
      "outputs": [
        {
          "output_type": "stream",
          "text": [
            "f\n",
            "a b c d e f "
          ],
          "name": "stdout"
        }
      ]
    },
    {
      "cell_type": "code",
      "metadata": {
        "colab": {
          "base_uri": "https://localhost:8080/"
        },
        "id": "5BPqao8xLll7",
        "outputId": "87008a59-984e-4423-fb6e-1a2a337d42d2"
      },
      "source": [
        "s = int(input())\n",
        "for i in range(s+1):\n",
        "  print(i)"
      ],
      "execution_count": null,
      "outputs": [
        {
          "output_type": "stream",
          "text": [
            "4\n",
            "0\n",
            "1\n",
            "2\n",
            "3\n",
            "4\n"
          ],
          "name": "stdout"
        }
      ]
    },
    {
      "cell_type": "markdown",
      "metadata": {
        "id": "xIhSVZE3MZex"
      },
      "source": [
        "## [기초-종합]"
      ]
    },
    {
      "cell_type": "code",
      "metadata": {
        "colab": {
          "base_uri": "https://localhost:8080/"
        },
        "id": "ec20o0dJLlok",
        "outputId": "389ec3b8-e461-4711-bab1-18d66e58ee63"
      },
      "source": [
        "#짝수 합 구하기\n",
        "s = int(input()) #5\n",
        "\n",
        "c = 0\n",
        "while s > 0:\n",
        "  if s % 2 == 0:\n",
        "    c += s\n",
        "  s -= 1\n",
        "print(c)"
      ],
      "execution_count": null,
      "outputs": [
        {
          "output_type": "stream",
          "text": [
            "5\n",
            "6\n"
          ],
          "name": "stdout"
        }
      ]
    },
    {
      "cell_type": "code",
      "metadata": {
        "colab": {
          "base_uri": "https://localhost:8080/"
        },
        "id": "dkgIW27wLluM",
        "outputId": "c5f6c7b6-c1b8-4f10-9d06-6ec06164fa23"
      },
      "source": [
        "#원하는 문자가 입력될 때까지 반복 출력하기\n",
        "i = 'a'\n",
        "while i != 'q':\n",
        "  i = input()\n",
        "\n",
        "  print(i)"
      ],
      "execution_count": null,
      "outputs": [
        {
          "output_type": "stream",
          "text": [
            "x\n",
            "x\n",
            "k\n",
            "k\n",
            "q\n",
            "q\n"
          ],
          "name": "stdout"
        }
      ]
    },
    {
      "cell_type": "code",
      "metadata": {
        "colab": {
          "base_uri": "https://localhost:8080/"
        },
        "id": "VTLIWJ4uN-6d",
        "outputId": "f1cf5622-d354-490b-dae0-c6b637466fe3"
      },
      "source": [
        "#언제까지 더해야 할까?\n",
        "\n",
        "a = int(input()) #55\n",
        "count = 0\n",
        "\n",
        "for i in range(1,s):   \n",
        "  count += i\n",
        "  if count >= a:\n",
        "    print(i)\n",
        "    break"
      ],
      "execution_count": null,
      "outputs": [
        {
          "output_type": "stream",
          "text": [
            "55\n",
            "10\n"
          ],
          "name": "stdout"
        }
      ]
    },
    {
      "cell_type": "code",
      "metadata": {
        "colab": {
          "base_uri": "https://localhost:8080/"
        },
        "id": "VI4sCCygYqKR",
        "outputId": "0d265c87-b323-40c1-f976-8be3bacacc76"
      },
      "source": [
        "#언제까지 더해야 할까?2\n",
        "n = int(input())\n",
        "i = 0\n",
        "s = 0\n",
        "while s < n:\n",
        "  i += 1\n",
        "  s += i\n",
        "print(i)"
      ],
      "execution_count": null,
      "outputs": [
        {
          "output_type": "stream",
          "text": [
            "55\n",
            "10\n"
          ],
          "name": "stdout"
        }
      ]
    },
    {
      "cell_type": "code",
      "metadata": {
        "colab": {
          "base_uri": "https://localhost:8080/"
        },
        "id": "_T-H3MzsOajN",
        "outputId": "e052402b-f92d-46ad-bd9a-43fc1e74da0b"
      },
      "source": [
        "#주사위 2개 던지기\n",
        "a,b = map(int, input().split())\n",
        "\n",
        "for i in range(1,a+1):\n",
        "  for j in range(1,b+1):\n",
        "    print(i,j,end = '\\n')\n",
        "    #print('{} {}'.format(i, j))"
      ],
      "execution_count": null,
      "outputs": [
        {
          "output_type": "stream",
          "text": [
            "2 3\n",
            "1 1\n",
            "1 2\n",
            "1 3\n",
            "2 1\n",
            "2 2\n",
            "2 3\n"
          ],
          "name": "stdout"
        }
      ]
    },
    {
      "cell_type": "code",
      "metadata": {
        "colab": {
          "base_uri": "https://localhost:8080/"
        },
        "id": "7hinHdAyOamZ",
        "outputId": "b77a5dfb-c176-4c35-ccc9-0eaef6803c6b"
      },
      "source": [
        "#16진수 구구단 출력하기\n",
        "a = int(input(),16)\n",
        "for i in range(1,16):\n",
        "    print('%X*%X=%X' % (a,i,a*i))"
      ],
      "execution_count": null,
      "outputs": [
        {
          "output_type": "stream",
          "text": [
            "B\n",
            "B*1=B\n",
            "B*2=16\n",
            "B*3=21\n",
            "B*4=2C\n",
            "B*5=37\n",
            "B*6=42\n",
            "B*7=4D\n",
            "B*8=58\n",
            "B*9=63\n",
            "B*A=6E\n",
            "B*B=79\n",
            "B*C=84\n",
            "B*D=8F\n",
            "B*E=9A\n",
            "B*F=A5\n"
          ],
          "name": "stdout"
        }
      ]
    },
    {
      "cell_type": "code",
      "metadata": {
        "id": "5FP4uVSYOap_",
        "colab": {
          "base_uri": "https://localhost:8080/"
        },
        "outputId": "b93310f6-0c74-4db6-ee89-2d676c110e0a"
      },
      "source": [
        "#3 6 9 게임의 왕이 되자\n",
        "\n",
        "a = int(input())\n",
        "\n",
        "for i in range(1,a+1):\n",
        "  if i % 10 == 3 or i % 10 == 6 or i %10 == 9:\n",
        "    print('X', end = ' ')\n",
        "  else:\n",
        "    print(i, end = ' ')\n"
      ],
      "execution_count": null,
      "outputs": [
        {
          "output_type": "stream",
          "text": [
            "35\n",
            "1 2 X 4 5 X 7 8 X 10 11 12 X 14 15 X 17 18 X 20 21 22 X 24 25 X 27 28 X 30 31 32 X 34 35 "
          ],
          "name": "stdout"
        }
      ]
    },
    {
      "cell_type": "code",
      "metadata": {
        "id": "vqkhpfAAOnMm",
        "colab": {
          "base_uri": "https://localhost:8080/"
        },
        "outputId": "d0c0787e-4daa-44d2-8e47-6ec2a51a2103"
      },
      "source": [
        "#빛 섞어 색 만들기\n",
        "a,b,c = map(int,input().split())\n",
        "\n",
        "count = 0\n",
        "for i in range(a):\n",
        "  for j in range(b):\n",
        "    for k in range(c):\n",
        "      print('{} {} {}'.format(i, j, k))\n",
        "      count += 1\n",
        "print(count)"
      ],
      "execution_count": null,
      "outputs": [
        {
          "output_type": "stream",
          "text": [
            "2 2 2\n",
            "0 0 0\n",
            "0 0 1\n",
            "0 1 0\n",
            "0 1 1\n",
            "1 0 0\n",
            "1 0 1\n",
            "1 1 0\n",
            "1 1 1\n",
            "8\n"
          ],
          "name": "stdout"
        }
      ]
    },
    {
      "cell_type": "code",
      "metadata": {
        "id": "S2HGCbObOnPK",
        "colab": {
          "base_uri": "https://localhost:8080/"
        },
        "outputId": "d3385372-1699-484a-91af-09ad11af91d9"
      },
      "source": [
        "#소리 파일 저장용량 계산하기\n",
        "\n",
        "a,b,c,s = map(int, input().split())\n",
        "\n",
        "m = round(((a *b*c*s)/8)/1024/1024,1)\n",
        "print('{} MB'.format(m))\n"
      ],
      "execution_count": null,
      "outputs": [
        {
          "output_type": "stream",
          "text": [
            "44100 16 2 10\n",
            "1.7 MB\n"
          ],
          "name": "stdout"
        }
      ]
    },
    {
      "cell_type": "code",
      "metadata": {
        "id": "iV1w4t3nOnR3",
        "colab": {
          "base_uri": "https://localhost:8080/"
        },
        "outputId": "98d5e055-1992-42ab-de8e-b9047493792c"
      },
      "source": [
        "#그림 파일 저장용량 계산하기\n",
        "w, h, b = map(int, input().split())\n",
        "m = round(((w*h*b) / 8 / 1024 / 1024), 2)\n",
        "print('{:.2f} MB'.format(m))"
      ],
      "execution_count": null,
      "outputs": [
        {
          "output_type": "stream",
          "text": [
            "1024 768 10\n",
            "0.94 MB\n"
          ],
          "name": "stdout"
        }
      ]
    },
    {
      "cell_type": "code",
      "metadata": {
        "id": "cO9N2gtVOnTs",
        "colab": {
          "base_uri": "https://localhost:8080/"
        },
        "outputId": "005dcfc4-9d66-4baa-c8c8-e03ce9f37beb"
      },
      "source": [
        "#거기까지! 이제 그만~\n",
        "n = int(input())\n",
        "i = 0\n",
        "s = 0\n",
        "while True:\n",
        "  s += i\n",
        "  i += 1\n",
        "  if s >= n:      #66 > 57\n",
        "    break\n",
        "print(s)"
      ],
      "execution_count": null,
      "outputs": [
        {
          "output_type": "stream",
          "text": [
            "57\n",
            "66\n"
          ],
          "name": "stdout"
        }
      ]
    },
    {
      "cell_type": "code",
      "metadata": {
        "id": "BEFopqrWOxai",
        "colab": {
          "base_uri": "https://localhost:8080/"
        },
        "outputId": "354d1150-5b6a-4b76-e76c-ffd9cdb8d96d"
      },
      "source": [
        "#3의 배수는 통과\n",
        "n = int(input())\n",
        "\n",
        "for i in range(1,n+1):\n",
        "  if i % 3 == 0:\n",
        "    continue\n",
        "  print(i, end = ' ')\n"
      ],
      "execution_count": null,
      "outputs": [
        {
          "output_type": "stream",
          "text": [
            "10\n",
            "1 2 4 5 7 8 10 "
          ],
          "name": "stdout"
        }
      ]
    },
    {
      "cell_type": "code",
      "metadata": {
        "id": "Pjz4dhFjOxdG",
        "colab": {
          "base_uri": "https://localhost:8080/"
        },
        "outputId": "2addc054-2788-4230-c900-68749a260c1b"
      },
      "source": [
        "#수 나열하기1\n",
        "a, b, n = map(int, input().split())\n",
        "total = a\n",
        "for i in range(a, a + n - 1):\n",
        "\ttotal += b\n",
        "print(total)"
      ],
      "execution_count": null,
      "outputs": [
        {
          "output_type": "stream",
          "text": [
            "1 3 5\n",
            "13\n"
          ],
          "name": "stdout"
        }
      ]
    },
    {
      "cell_type": "code",
      "metadata": {
        "id": "ljvOJkzeOxfe",
        "colab": {
          "base_uri": "https://localhost:8080/"
        },
        "outputId": "0181b247-84e3-42e0-d486-aa5d29b5fed5"
      },
      "source": [
        "#수 나열하기2\n",
        "a, b, n = map(int, input().split())\n",
        "total = a\n",
        "for i in range(a, a + n - 1):\n",
        "\ttotal *= b\n",
        "print(total)"
      ],
      "execution_count": null,
      "outputs": [
        {
          "output_type": "stream",
          "text": [
            "2 3 7\n",
            "1458\n"
          ],
          "name": "stdout"
        }
      ]
    },
    {
      "cell_type": "code",
      "metadata": {
        "id": "HL6-aNRTOxhp",
        "colab": {
          "base_uri": "https://localhost:8080/"
        },
        "outputId": "0d234c58-e348-416c-d00d-2fd7cad8dbe3"
      },
      "source": [
        "#수 나열하기3\n",
        "a,m,d,n = map(int, input().split())\n",
        "total = a\n",
        "for i in range(a, a+n-1):\n",
        "  total = (total*m)+(d)\n",
        "print(total)"
      ],
      "execution_count": null,
      "outputs": [
        {
          "output_type": "stream",
          "text": [
            "1 -2 1 8\n",
            "-85\n"
          ],
          "name": "stdout"
        }
      ]
    },
    {
      "cell_type": "code",
      "metadata": {
        "id": "ncLIlvKtOxkO"
      },
      "source": [
        "#함께 문제 푸는 날 - 최소공배수 구하기\n",
        "\n",
        "a, b, c = map(int, input().split())\n",
        "\n",
        "d = 1\n",
        "while d % a != 0 or d % b != 0 or d % c != 0:  #나머지가 0인 d 값 찾기\n",
        "    d += 1\n",
        "print(d)"
      ],
      "execution_count": null,
      "outputs": []
    },
    {
      "cell_type": "code",
      "metadata": {
        "id": "M1-CXD7dOxmY",
        "colab": {
          "base_uri": "https://localhost:8080/"
        },
        "outputId": "26dae672-f62d-4cd0-a7cc-23c10e872740"
      },
      "source": [
        "#이상한 출석 번호 부르기1\n",
        "from random import randint\n",
        "\n",
        "n = int(input())\n",
        "temp = [0] * 23\n",
        "nums = input().split() #nums = [1,3,2,2,5,6,7,4,5,9]\n",
        "for i in nums:\n",
        "    temp[int(i)-1] += 1\n",
        "for i in temp:\n",
        "    print(i, end=' ')"
      ],
      "execution_count": null,
      "outputs": [
        {
          "output_type": "stream",
          "text": [
            "10\n",
            "1 3 2 2 5 6 7 4 5 9\n",
            "1 2 1 1 2 1 1 0 1 0 0 0 0 0 0 0 0 0 0 0 0 0 0 "
          ],
          "name": "stdout"
        }
      ]
    },
    {
      "cell_type": "code",
      "metadata": {
        "id": "5HcjU0S_Oxor",
        "colab": {
          "base_uri": "https://localhost:8080/"
        },
        "outputId": "05d8a89c-0ba3-48f3-fcea-1b401c597959"
      },
      "source": [
        "#이상한 출석 번호 부르기2\n",
        "n = int(input()) #10\n",
        "a = input().split() #a = [10 4 2 3 6 6 7 9 8 5]\n",
        "\n",
        "for i in range(n-1, -1, -1) :\n",
        "  print(a[i], end=' ')"
      ],
      "execution_count": 1,
      "outputs": [
        {
          "output_type": "stream",
          "text": [
            "10\n",
            "10 4 2 3 6 6 7 9 8 5\n",
            "5 8 9 7 6 6 3 2 4 10 "
          ],
          "name": "stdout"
        }
      ]
    },
    {
      "cell_type": "code",
      "metadata": {
        "id": "9dYizO65OxrS",
        "colab": {
          "base_uri": "https://localhost:8080/"
        },
        "outputId": "8b78d514-b36a-447c-e5dd-2fe6b189d149"
      },
      "source": [
        "#이상한 출석 번호 부르기3\n",
        "n = int(input())\n",
        "a = list(map(int,input().split()))\n",
        "\n",
        "a.sort()\n",
        "print(a[0])\n"
      ],
      "execution_count": 7,
      "outputs": [
        {
          "output_type": "stream",
          "text": [
            "10\n",
            "10 4 2 3 6 6 7 9 8 5\n",
            "2\n"
          ],
          "name": "stdout"
        }
      ]
    },
    {
      "cell_type": "code",
      "metadata": {
        "id": "ovPn2kDKOxv-",
        "colab": {
          "base_uri": "https://localhost:8080/"
        },
        "outputId": "2b5d02f6-6bb7-4c6a-f9a2-ba93172a6fc9"
      },
      "source": [
        "#바둑판에 흰 돌 놓기\n",
        "n = int(input())\n",
        "\n",
        "#빈 바둑판 만들기\n",
        "d = []\n",
        "for i in range(20):\n",
        "  d.append([])\n",
        "  for j in range(20):\n",
        "    d[i].append(0)\n",
        "\n",
        "#바둑판 위에 바둑 놓기\n",
        "for i in range(n):\n",
        "  x, y = map(int,input().split())\n",
        "  d[x][y] = 1\n",
        "\n",
        "#결과 출력하기\n",
        "for i in range(1,20):\n",
        "  for j in range(1,20):\n",
        "    print(d[i][j], end = ' ')\n",
        "  print()  #줄바꿈"
      ],
      "execution_count": 29,
      "outputs": [
        {
          "output_type": "stream",
          "text": [
            "5\n",
            "1 1\n",
            "2 2\n",
            "3 3\n",
            "4 4\n",
            "5 5\n",
            "1 0 0 0 0 0 0 0 0 0 0 0 0 0 0 0 0 0 0 \n",
            "0 1 0 0 0 0 0 0 0 0 0 0 0 0 0 0 0 0 0 \n",
            "0 0 1 0 0 0 0 0 0 0 0 0 0 0 0 0 0 0 0 \n",
            "0 0 0 1 0 0 0 0 0 0 0 0 0 0 0 0 0 0 0 \n",
            "0 0 0 0 1 0 0 0 0 0 0 0 0 0 0 0 0 0 0 \n",
            "0 0 0 0 0 0 0 0 0 0 0 0 0 0 0 0 0 0 0 \n",
            "0 0 0 0 0 0 0 0 0 0 0 0 0 0 0 0 0 0 0 \n",
            "0 0 0 0 0 0 0 0 0 0 0 0 0 0 0 0 0 0 0 \n",
            "0 0 0 0 0 0 0 0 0 0 0 0 0 0 0 0 0 0 0 \n",
            "0 0 0 0 0 0 0 0 0 0 0 0 0 0 0 0 0 0 0 \n",
            "0 0 0 0 0 0 0 0 0 0 0 0 0 0 0 0 0 0 0 \n",
            "0 0 0 0 0 0 0 0 0 0 0 0 0 0 0 0 0 0 0 \n",
            "0 0 0 0 0 0 0 0 0 0 0 0 0 0 0 0 0 0 0 \n",
            "0 0 0 0 0 0 0 0 0 0 0 0 0 0 0 0 0 0 0 \n",
            "0 0 0 0 0 0 0 0 0 0 0 0 0 0 0 0 0 0 0 \n",
            "0 0 0 0 0 0 0 0 0 0 0 0 0 0 0 0 0 0 0 \n",
            "0 0 0 0 0 0 0 0 0 0 0 0 0 0 0 0 0 0 0 \n",
            "0 0 0 0 0 0 0 0 0 0 0 0 0 0 0 0 0 0 0 \n",
            "0 0 0 0 0 0 0 0 0 0 0 0 0 0 0 0 0 0 0 \n"
          ],
          "name": "stdout"
        }
      ]
    },
    {
      "cell_type": "code",
      "metadata": {
        "id": "Ao_AuTDBPERL",
        "colab": {
          "base_uri": "https://localhost:8080/"
        },
        "outputId": "e0af3d0b-11e5-4773-d2d5-1517d2ca14d3"
      },
      "source": [
        "#바둑알 십자 뒤집기\n",
        "\n",
        "#바둑판 생성\n",
        "d = []\n",
        "for i in range(20):\n",
        "  d.append([])\n",
        "  for j in range(20):\n",
        "    d[i].append(0)\n",
        "\n",
        "#입력값 넣어주기\n",
        "for i in range(19):\n",
        "  a = input().split()\n",
        "  for j in range(19):\n",
        "    d[i+1][j+1] = int(a[j])\n",
        "\n",
        "#뒤집기 과정\n",
        "n = int(input())\n",
        "for i in range(n):\n",
        "  x, y = map(int,input().split())\n",
        "  for j in range(1,20):\n",
        "    if d[j][y] == 0:\n",
        "      d[j][y] = 1\n",
        "    else:\n",
        "      d[j][y] = 0\n",
        "\n",
        "    if d[x][j] == 0:\n",
        "      d[x][j] = 1\n",
        "    else:\n",
        "      d[x][j] = 0\n",
        "\n",
        "#값 출력하기\n",
        "for i in range(1, 20) :\n",
        "  for j in range(1, 20) :\n",
        "    print(d[i][j], end=' ') \n",
        "  print()\n"
      ],
      "execution_count": 33,
      "outputs": [
        {
          "output_type": "stream",
          "text": [
            "0 0 0 0 0 0 0 0 0 1 0 1 0 0 0 0 0 0 0\n",
            "0 0 0 0 0 0 0 0 0 1 0 1 0 0 0 0 0 0 0\n",
            "0 0 0 0 0 0 0 0 0 1 0 1 0 0 0 0 0 0 0\n",
            "0 0 0 0 0 0 0 0 0 1 0 1 0 0 0 0 0 0 0\n",
            "0 0 0 0 0 0 0 0 0 1 0 1 0 0 0 0 0 0 0\n",
            "0 0 0 0 0 0 0 0 0 1 0 1 0 0 0 0 0 0 0\n",
            "0 0 0 0 0 0 0 0 0 1 0 1 0 0 0 0 0 0 0\n",
            "0 0 0 0 0 0 0 0 0 1 0 1 0 0 0 0 0 0 0\n",
            "0 0 0 0 0 0 0 0 0 1 0 1 0 0 0 0 0 0 0\n",
            "0 0 0 0 0 0 0 0 0 1 0 1 0 0 0 0 0 0 0\n",
            "0 0 0 0 0 0 0 0 0 1 0 1 0 0 0 0 0 0 0\n",
            "0 0 0 0 0 0 0 0 0 1 0 1 0 0 0 0 0 0 0\n",
            "0 0 0 0 0 0 0 0 0 1 0 1 0 0 0 0 0 0 0\n",
            "0 0 0 0 0 0 0 0 0 1 0 1 0 0 0 0 0 0 0\n",
            "0 0 0 0 0 0 0 0 0 1 0 1 0 0 0 0 0 0 0\n",
            "0 0 0 0 0 0 0 0 0 1 0 1 0 0 0 0 0 0 0\n",
            "0 0 0 0 0 0 0 0 0 1 0 1 0 0 0 0 0 0 0\n",
            "0 0 0 0 0 0 0 0 0 1 0 1 0 0 0 0 0 0 0\n",
            "0 0 0 0 0 0 0 0 0 1 0 1 0 0 0 0 0 0 0\n",
            "2\n",
            "10 10\n",
            "12 12\n",
            "0 0 0 0 0 0 0 0 0 0 0 0 0 0 0 0 0 0 0 \n",
            "0 0 0 0 0 0 0 0 0 0 0 0 0 0 0 0 0 0 0 \n",
            "0 0 0 0 0 0 0 0 0 0 0 0 0 0 0 0 0 0 0 \n",
            "0 0 0 0 0 0 0 0 0 0 0 0 0 0 0 0 0 0 0 \n",
            "0 0 0 0 0 0 0 0 0 0 0 0 0 0 0 0 0 0 0 \n",
            "0 0 0 0 0 0 0 0 0 0 0 0 0 0 0 0 0 0 0 \n",
            "0 0 0 0 0 0 0 0 0 0 0 0 0 0 0 0 0 0 0 \n",
            "0 0 0 0 0 0 0 0 0 0 0 0 0 0 0 0 0 0 0 \n",
            "0 0 0 0 0 0 0 0 0 0 0 0 0 0 0 0 0 0 0 \n",
            "1 1 1 1 1 1 1 1 1 1 1 1 1 1 1 1 1 1 1 \n",
            "0 0 0 0 0 0 0 0 0 0 0 0 0 0 0 0 0 0 0 \n",
            "1 1 1 1 1 1 1 1 1 1 1 1 1 1 1 1 1 1 1 \n",
            "0 0 0 0 0 0 0 0 0 0 0 0 0 0 0 0 0 0 0 \n",
            "0 0 0 0 0 0 0 0 0 0 0 0 0 0 0 0 0 0 0 \n",
            "0 0 0 0 0 0 0 0 0 0 0 0 0 0 0 0 0 0 0 \n",
            "0 0 0 0 0 0 0 0 0 0 0 0 0 0 0 0 0 0 0 \n",
            "0 0 0 0 0 0 0 0 0 0 0 0 0 0 0 0 0 0 0 \n",
            "0 0 0 0 0 0 0 0 0 0 0 0 0 0 0 0 0 0 0 \n",
            "0 0 0 0 0 0 0 0 0 0 0 0 0 0 0 0 0 0 0 \n"
          ],
          "name": "stdout"
        }
      ]
    },
    {
      "cell_type": "code",
      "metadata": {
        "id": "6zMzSa3NOx0u",
        "colab": {
          "base_uri": "https://localhost:8080/"
        },
        "outputId": "547a7c12-3e91-4cce-bfd1-7dad10f258e1"
      },
      "source": [
        "#설탕과자 뽑기\n",
        "\n",
        "h,w = map(int, input().split()) #격자판의 세로, 가로\n",
        "\n",
        "#격자판 만들기\n",
        "m = []\n",
        "for i in range(h+1):\n",
        "  m.append([])\n",
        "  for j in range(w+1):\n",
        "    m[i].append(0)\n",
        "\n",
        "#막대\n",
        "n = int(input()) #막대의 개수\n",
        "for i in range(n):\n",
        "  l,d,x,y = map(int, input().split()) #막대의 길이, 방향, 좌표\n",
        "  if int(d) == 0:\n",
        "    for j in range(l):\n",
        "      m[x][y+j] = 1\n",
        "  else:\n",
        "    for j in range(l):\n",
        "      m[x+j][y] = 1\n",
        "\n",
        "#출력\n",
        "for i in range(1,h+1):\n",
        "  for j in range(1,w+1):\n",
        "    print(m[i][j], end=' ')\n",
        "  print()"
      ],
      "execution_count": 38,
      "outputs": [
        {
          "output_type": "stream",
          "text": [
            "5 5\n",
            "3\n",
            "2 0 1 1\n",
            "3 1 2 3\n",
            "4 1 2 5\n",
            "1 1 0 0 0 \n",
            "0 0 1 0 1 \n",
            "0 0 1 0 1 \n",
            "0 0 1 0 1 \n",
            "0 0 0 0 1 \n"
          ],
          "name": "stdout"
        }
      ]
    },
    {
      "cell_type": "code",
      "metadata": {
        "id": "-q2pl_O4PEO_",
        "colab": {
          "base_uri": "https://localhost:8080/"
        },
        "outputId": "949d243e-b112-42d8-c83f-93729db0d562"
      },
      "source": [
        "#성실한 개미\n",
        "#오른쪽으로 움직이다가 벽을 만나면 아래쪽으로 움직임\n",
        "#먹이가 2로 주어질 때, 개미의 이동 경로\n",
        "#단, 맨 아래의 가장 오른쪽에 도착한 경우, 더 이상 움직이지 못하는 경우, 그 곳에 머무른다.\n",
        "#개미는 (2,2)에서 출발\n",
        "\n",
        "#미로 만들기\n",
        "board=[[]*10 for _ in range(10)]\n",
        "for i in range(10):\n",
        "    board[i]=list(map(int,input().split()))\n",
        "\n",
        "x=1\n",
        "y=1\n",
        "board[x][y]=9\n",
        "\n",
        "#미로 탈출하기\n",
        "while True:\n",
        "    if(board[x][y]==2):\n",
        "        board[x][y]=9\n",
        "        break\n",
        "    if(board[x][y+1]!=1):\n",
        "        board[x][y]=9\n",
        "        y+=1\n",
        "    else:\n",
        "        if(board[x+1][y]!=1):\n",
        "            board[x][y]=9\n",
        "            x+=1\n",
        "        else:\n",
        "          board[x][y]=9\n",
        "          break\n",
        "\n",
        "#출력하기\n",
        "for i in range(10):\n",
        "    for j in range(10):\n",
        "        print(board[i][j],end=' ')\n",
        "    print()"
      ],
      "execution_count": 44,
      "outputs": [
        {
          "output_type": "stream",
          "text": [
            "1 1 1 1 1 1 1 1 1 1\n",
            "1 0 0 1 0 0 0 0 0 1\n",
            "1 0 0 1 1 1 0 0 0 1\n",
            "1 0 0 0 0 0 0 1 0 1\n",
            "1 0 0 0 0 0 0 1 0 1\n",
            "1 0 0 0 0 1 0 1 0 1\n",
            "1 0 0 0 0 1 2 1 0 1\n",
            "1 0 0 0 0 1 0 0 0 1\n",
            "1 0 0 0 0 0 0 0 0 1\n",
            "1 1 1 1 1 1 1 1 1 1\n",
            "1 1 1 1 1 1 1 1 1 1 \n",
            "1 9 9 1 0 0 0 0 0 1 \n",
            "1 0 9 1 1 1 0 0 0 1 \n",
            "1 0 9 9 9 9 9 1 0 1 \n",
            "1 0 0 0 0 0 9 1 0 1 \n",
            "1 0 0 0 0 1 9 1 0 1 \n",
            "1 0 0 0 0 1 9 1 0 1 \n",
            "1 0 0 0 0 1 0 0 0 1 \n",
            "1 0 0 0 0 0 0 0 0 1 \n",
            "1 1 1 1 1 1 1 1 1 1 \n"
          ],
          "name": "stdout"
        }
      ]
    }
  ]
}